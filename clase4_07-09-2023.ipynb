{
 "cells": [
  {
   "cell_type": "markdown",
   "metadata": {},
   "source": [
    "<a target=\"_blank\" href=\"https://colab.research.google.com/github/estocasticos-udem/clases-2023-2/blob/main/clase3_10-08-2023.ipynb\">\n",
    "  <img src=\"https://colab.research.google.com/assets/colab-badge.svg\" alt=\"Open In Colab\"/>\n",
    "</a>"
   ]
  },
  {
   "cell_type": "code",
   "execution_count": 2,
   "metadata": {},
   "outputs": [],
   "source": [
    "import random\n",
    "import scipy.stats as stats\n",
    "import numpy as np\n",
    "import matplotlib.pyplot as plt\n",
    "import pandas as pd\n",
    "import itertools"
   ]
  },
  {
   "cell_type": "markdown",
   "metadata": {},
   "source": [
    "# Clase 4\n",
    "\n",
    "* **Tema**: Variables aleatorias\n",
    "* **Fecha**: 07/09/2023"
   ]
  },
  {
   "cell_type": "markdown",
   "metadata": {},
   "source": [
    "## Variables aleatorias\n",
    "\n",
    "En construcción...\n",
    "\n"
   ]
  },
  {
   "cell_type": "markdown",
   "metadata": {},
   "source": [
    "**Ejemplo 2**: Suponga un experimento que consiste en lanzar una moneda no cargada tres veces\n",
    "1. D\n"
   ]
  },
  {
   "cell_type": "code",
   "execution_count": 40,
   "metadata": {},
   "outputs": [
    {
     "data": {
      "text/html": [
       "<div>\n",
       "<style scoped>\n",
       "    .dataframe tbody tr th:only-of-type {\n",
       "        vertical-align: middle;\n",
       "    }\n",
       "\n",
       "    .dataframe tbody tr th {\n",
       "        vertical-align: top;\n",
       "    }\n",
       "\n",
       "    .dataframe thead th {\n",
       "        text-align: right;\n",
       "    }\n",
       "</style>\n",
       "<table border=\"1\" class=\"dataframe\">\n",
       "  <thead>\n",
       "    <tr style=\"text-align: right;\">\n",
       "      <th></th>\n",
       "      <th>S</th>\n",
       "      <th>caras</th>\n",
       "    </tr>\n",
       "  </thead>\n",
       "  <tbody>\n",
       "    <tr>\n",
       "      <th>0</th>\n",
       "      <td>(H, H, H)</td>\n",
       "      <td>3</td>\n",
       "    </tr>\n",
       "    <tr>\n",
       "      <th>1</th>\n",
       "      <td>(H, H, T)</td>\n",
       "      <td>2</td>\n",
       "    </tr>\n",
       "    <tr>\n",
       "      <th>2</th>\n",
       "      <td>(H, T, H)</td>\n",
       "      <td>2</td>\n",
       "    </tr>\n",
       "    <tr>\n",
       "      <th>3</th>\n",
       "      <td>(H, T, T)</td>\n",
       "      <td>1</td>\n",
       "    </tr>\n",
       "    <tr>\n",
       "      <th>4</th>\n",
       "      <td>(T, H, H)</td>\n",
       "      <td>2</td>\n",
       "    </tr>\n",
       "    <tr>\n",
       "      <th>5</th>\n",
       "      <td>(T, H, T)</td>\n",
       "      <td>1</td>\n",
       "    </tr>\n",
       "    <tr>\n",
       "      <th>6</th>\n",
       "      <td>(T, T, H)</td>\n",
       "      <td>1</td>\n",
       "    </tr>\n",
       "    <tr>\n",
       "      <th>7</th>\n",
       "      <td>(T, T, T)</td>\n",
       "      <td>0</td>\n",
       "    </tr>\n",
       "  </tbody>\n",
       "</table>\n",
       "</div>"
      ],
      "text/plain": [
       "           S  caras\n",
       "0  (H, H, H)      3\n",
       "1  (H, H, T)      2\n",
       "2  (H, T, H)      2\n",
       "3  (H, T, T)      1\n",
       "4  (T, H, H)      2\n",
       "5  (T, H, T)      1\n",
       "6  (T, T, H)      1\n",
       "7  (T, T, T)      0"
      ]
     },
     "execution_count": 40,
     "metadata": {},
     "output_type": "execute_result"
    }
   ],
   "source": [
    "# Espacio muestral\n",
    "\n",
    "moneda_1 = ['H', 'T']\n",
    "moneda_2 = ['H', 'T']\n",
    "moneda_3 = ['H', 'T']\n",
    "\n",
    "# Espacio muestral\n",
    "S = list(itertools.product(moneda_1, moneda_2,moneda_3))\n",
    "caras = [s_i.count('H') for s_i in S]\n",
    "# print(S)\n",
    "# print(caras)\n",
    "\n",
    "df = pd.DataFrame({'S': S, 'caras': caras})\n",
    "df\n",
    "\n"
   ]
  },
  {
   "cell_type": "code",
   "execution_count": 50,
   "metadata": {},
   "outputs": [
    {
     "data": {
      "text/html": [
       "<div>\n",
       "<style scoped>\n",
       "    .dataframe tbody tr th:only-of-type {\n",
       "        vertical-align: middle;\n",
       "    }\n",
       "\n",
       "    .dataframe tbody tr th {\n",
       "        vertical-align: top;\n",
       "    }\n",
       "\n",
       "    .dataframe thead th {\n",
       "        text-align: right;\n",
       "    }\n",
       "</style>\n",
       "<table border=\"1\" class=\"dataframe\">\n",
       "  <thead>\n",
       "    <tr style=\"text-align: right;\">\n",
       "      <th></th>\n",
       "      <th></th>\n",
       "      <th></th>\n",
       "      <th>0</th>\n",
       "    </tr>\n",
       "    <tr>\n",
       "      <th>caras</th>\n",
       "      <th>S</th>\n",
       "      <th>prob</th>\n",
       "      <th></th>\n",
       "    </tr>\n",
       "  </thead>\n",
       "  <tbody>\n",
       "    <tr>\n",
       "      <th>0</th>\n",
       "      <th>(T, T, T)</th>\n",
       "      <th>0.000</th>\n",
       "      <td>1</td>\n",
       "    </tr>\n",
       "    <tr>\n",
       "      <th rowspan=\"3\" valign=\"top\">1</th>\n",
       "      <th>(H, T, T)</th>\n",
       "      <th>0.125</th>\n",
       "      <td>1</td>\n",
       "    </tr>\n",
       "    <tr>\n",
       "      <th>(T, H, T)</th>\n",
       "      <th>0.125</th>\n",
       "      <td>1</td>\n",
       "    </tr>\n",
       "    <tr>\n",
       "      <th>(T, T, H)</th>\n",
       "      <th>0.125</th>\n",
       "      <td>1</td>\n",
       "    </tr>\n",
       "    <tr>\n",
       "      <th rowspan=\"3\" valign=\"top\">2</th>\n",
       "      <th>(H, H, T)</th>\n",
       "      <th>0.250</th>\n",
       "      <td>1</td>\n",
       "    </tr>\n",
       "    <tr>\n",
       "      <th>(H, T, H)</th>\n",
       "      <th>0.250</th>\n",
       "      <td>1</td>\n",
       "    </tr>\n",
       "    <tr>\n",
       "      <th>(T, H, H)</th>\n",
       "      <th>0.250</th>\n",
       "      <td>1</td>\n",
       "    </tr>\n",
       "    <tr>\n",
       "      <th>3</th>\n",
       "      <th>(H, H, H)</th>\n",
       "      <th>0.375</th>\n",
       "      <td>1</td>\n",
       "    </tr>\n",
       "  </tbody>\n",
       "</table>\n",
       "</div>"
      ],
      "text/plain": [
       "                       0\n",
       "caras S         prob    \n",
       "0     (T, T, T) 0.000  1\n",
       "1     (H, T, T) 0.125  1\n",
       "      (T, H, T) 0.125  1\n",
       "      (T, T, H) 0.125  1\n",
       "2     (H, H, T) 0.250  1\n",
       "      (H, T, H) 0.250  1\n",
       "      (T, H, H) 0.250  1\n",
       "3     (H, H, H) 0.375  1"
      ]
     },
     "execution_count": 50,
     "metadata": {},
     "output_type": "execute_result"
    }
   ],
   "source": [
    "#pd.DataFrame(df.groupby(\"caras\", group_keys=True).value_counts())\n",
    "df_caras = pd.DataFrame(df.groupby(\"caras\").value_counts())\n",
    "df_caras"
   ]
  },
  {
   "cell_type": "code",
   "execution_count": 51,
   "metadata": {},
   "outputs": [
    {
     "data": {
      "text/html": [
       "<div>\n",
       "<style scoped>\n",
       "    .dataframe tbody tr th:only-of-type {\n",
       "        vertical-align: middle;\n",
       "    }\n",
       "\n",
       "    .dataframe tbody tr th {\n",
       "        vertical-align: top;\n",
       "    }\n",
       "\n",
       "    .dataframe thead th {\n",
       "        text-align: right;\n",
       "    }\n",
       "</style>\n",
       "<table border=\"1\" class=\"dataframe\">\n",
       "  <thead>\n",
       "    <tr style=\"text-align: right;\">\n",
       "      <th></th>\n",
       "      <th>S</th>\n",
       "      <th>caras</th>\n",
       "      <th>prob</th>\n",
       "    </tr>\n",
       "  </thead>\n",
       "  <tbody>\n",
       "    <tr>\n",
       "      <th>0</th>\n",
       "      <td>(H, H, H)</td>\n",
       "      <td>3</td>\n",
       "      <td>0.125</td>\n",
       "    </tr>\n",
       "    <tr>\n",
       "      <th>1</th>\n",
       "      <td>(H, H, T)</td>\n",
       "      <td>2</td>\n",
       "      <td>0.125</td>\n",
       "    </tr>\n",
       "    <tr>\n",
       "      <th>2</th>\n",
       "      <td>(H, T, H)</td>\n",
       "      <td>2</td>\n",
       "      <td>0.125</td>\n",
       "    </tr>\n",
       "    <tr>\n",
       "      <th>3</th>\n",
       "      <td>(H, T, T)</td>\n",
       "      <td>1</td>\n",
       "      <td>0.125</td>\n",
       "    </tr>\n",
       "    <tr>\n",
       "      <th>4</th>\n",
       "      <td>(T, H, H)</td>\n",
       "      <td>2</td>\n",
       "      <td>0.125</td>\n",
       "    </tr>\n",
       "    <tr>\n",
       "      <th>5</th>\n",
       "      <td>(T, H, T)</td>\n",
       "      <td>1</td>\n",
       "      <td>0.125</td>\n",
       "    </tr>\n",
       "    <tr>\n",
       "      <th>6</th>\n",
       "      <td>(T, T, H)</td>\n",
       "      <td>1</td>\n",
       "      <td>0.125</td>\n",
       "    </tr>\n",
       "    <tr>\n",
       "      <th>7</th>\n",
       "      <td>(T, T, T)</td>\n",
       "      <td>0</td>\n",
       "      <td>0.125</td>\n",
       "    </tr>\n",
       "  </tbody>\n",
       "</table>\n",
       "</div>"
      ],
      "text/plain": [
       "           S  caras   prob\n",
       "0  (H, H, H)      3  0.125\n",
       "1  (H, H, T)      2  0.125\n",
       "2  (H, T, H)      2  0.125\n",
       "3  (H, T, T)      1  0.125\n",
       "4  (T, H, H)      2  0.125\n",
       "5  (T, H, T)      1  0.125\n",
       "6  (T, T, H)      1  0.125\n",
       "7  (T, T, T)      0  0.125"
      ]
     },
     "execution_count": 51,
     "metadata": {},
     "output_type": "execute_result"
    }
   ],
   "source": [
    "N = df.shape[0]\n",
    "P = 1/N\n",
    "df['prob'] = P\n",
    "df"
   ]
  },
  {
   "cell_type": "code",
   "execution_count": 68,
   "metadata": {},
   "outputs": [
    {
     "name": "stdout",
     "output_type": "stream",
     "text": [
      "x = 0 --> P(X = 0) = 0.125\n",
      "x = 1 --> P(X = 1) = 0.375\n",
      "x = 2 --> P(X = 2) = 0.375\n",
      "x = 3 --> P(X = 3) = 0.125\n",
      "{0: 0.125, 1: 0.375, 2: 0.375, 3: 0.125}\n"
     ]
    },
    {
     "data": {
      "text/html": [
       "<div>\n",
       "<style scoped>\n",
       "    .dataframe tbody tr th:only-of-type {\n",
       "        vertical-align: middle;\n",
       "    }\n",
       "\n",
       "    .dataframe tbody tr th {\n",
       "        vertical-align: top;\n",
       "    }\n",
       "\n",
       "    .dataframe thead th {\n",
       "        text-align: right;\n",
       "    }\n",
       "</style>\n",
       "<table border=\"1\" class=\"dataframe\">\n",
       "  <thead>\n",
       "    <tr style=\"text-align: right;\">\n",
       "      <th></th>\n",
       "      <th>P(x)</th>\n",
       "    </tr>\n",
       "    <tr>\n",
       "      <th>x</th>\n",
       "      <th></th>\n",
       "    </tr>\n",
       "  </thead>\n",
       "  <tbody>\n",
       "    <tr>\n",
       "      <th>0</th>\n",
       "      <td>0.125</td>\n",
       "    </tr>\n",
       "    <tr>\n",
       "      <th>1</th>\n",
       "      <td>0.375</td>\n",
       "    </tr>\n",
       "    <tr>\n",
       "      <th>2</th>\n",
       "      <td>0.375</td>\n",
       "    </tr>\n",
       "    <tr>\n",
       "      <th>3</th>\n",
       "      <td>0.125</td>\n",
       "    </tr>\n",
       "  </tbody>\n",
       "</table>\n",
       "</div>"
      ],
      "text/plain": [
       "    P(x)\n",
       "x       \n",
       "0  0.125\n",
       "1  0.375\n",
       "2  0.375\n",
       "3  0.125"
      ]
     },
     "execution_count": 68,
     "metadata": {},
     "output_type": "execute_result"
    }
   ],
   "source": [
    "x = [0, 1, 2, 3]\n",
    "prob_model = {}\n",
    "for x_i in x:\n",
    "    prob_x_i = df[\"prob\"].where(df[\"caras\"] == x_i).dropna().sum()\n",
    "    print(f\"x = {x_i} --> P(X = {x_i}) = {prob_x_i}\")\n",
    "    prob_model[x_i] = prob_x_i\n",
    "print(prob_model)\n",
    "df_model = pd.DataFrame({\"x\": prob_model.keys(), \"P(x)\": prob_model.values()}) \n",
    "df_model = df_model.set_index('x')\n",
    "df_model"
   ]
  },
  {
   "cell_type": "code",
   "execution_count": 78,
   "metadata": {},
   "outputs": [
    {
     "data": {
      "text/plain": [
       "[0, 1, 2, 3]"
      ]
     },
     "execution_count": 78,
     "metadata": {},
     "output_type": "execute_result"
    }
   ],
   "source": [
    "x"
   ]
  },
  {
   "cell_type": "code",
   "execution_count": 82,
   "metadata": {},
   "outputs": [
    {
     "data": {
      "image/png": "[encoded data removed]",
      "text/plain": [
       "<Figure size 640x480 with 1 Axes>"
      ]
     },
     "metadata": {},
     "output_type": "display_data"
    }
   ],
   "source": [
    "# Grafica\n",
    "plt.plot(x, df_model[\"P(x)\"], 'bs', ms=10)\n",
    "plt.vlines(x, 0, df_model[\"P(x)\"], colors='b', lw = 5, alpha=0.5)\n",
    "plt.xlabel(\"$X$: Numero de caras\")\n",
    "plt.ylabel(\"$P(X = x)$\")\n",
    "plt.title(\"Lanzamiento de tres monedas\")\n",
    "plt.show()"
   ]
  },
  {
   "cell_type": "markdown",
   "metadata": {},
   "source": [
    "**Ejemplo 1**: \n",
    "Un psicólogo infantil se interesa por el número de veces que el llanto de un recién nacido despierta a su madre después de la medianoche. Para una muestra aleatoria de 50 madres, se obtuvo la siguiente información. \n",
    "\n",
    "|$x$|$P_X(x)$|\n",
    "|---|---|\n",
    "|0|$P_X(x = 0) = \\frac{2}{50}$|\n",
    "|1|$P_X(x = 1) = \\frac{11}{50}$|\n",
    "|2|$P_X(x = 2) = \\frac{23}{50}$|\n",
    "|3|$P_X(x = 3) = \\frac{9}{50}$|\n",
    "|4|$P_X(x = 4) = \\frac{4}{50}$|\n",
    "|5|$P_X(x = 5) = \\frac{1}{50}$|\n",
    "\n",
    "Donde:\n",
    "* **VA**: $X$ numero de el número de veces por semana que el llanto de un recién nacido despierta a su madre después de la medianoche.\n",
    "* **Valores que toma la VA**: $x = {0,1,2,3,4,5}$\n"
   ]
  },
  {
   "cell_type": "code",
   "execution_count": 53,
   "metadata": {},
   "outputs": [
    {
     "name": "stdout",
     "output_type": "stream",
     "text": [
      "Forma 1 - Usando indices\n",
      "['B', 'B', 'R', 'R', 'R']\n",
      "Bola 0: [0] -> B\n",
      "Bola 1: [4] -> R\n",
      "Forma 2 - Usando random.choice\n",
      "['B', 'B', 'R', 'R', 'R']\n",
      "Bola 0: R\n",
      "Bola 1: R\n",
      "Forma 3 - Usando random.choices\n",
      "['B', 'B', 'R', 'R', 'R']\n",
      "Bolas elegidas: ['R', 'R']\n",
      "Bola 0: R\n",
      "Bola 1: R\n"
     ]
    }
   ],
   "source": [
    "# Simulacion en python\n",
    "\n"
   ]
  },
  {
   "cell_type": "markdown",
   "metadata": {},
   "source": [
    "**Ejemplo 2 - Muestreo sin reemplazo**: \n",
    "Se tiene una bolsa con dos bolas azules y cinco bolas rojas. Supongamos que se sacan dos bolas pero no se vuelve a poner ninguna en la bolsa. Realizar la simulación en python."
   ]
  },
  {
   "cell_type": "code",
   "execution_count": 62,
   "metadata": {},
   "outputs": [
    {
     "name": "stdout",
     "output_type": "stream",
     "text": [
      "Forma 1 - Usando indices\n",
      "Poblacion inicial: ['B', 'B', 'R', 'R', 'R']\n",
      "Experimento 0: [1] -> B; Poblacion restante: ['B', 'R', 'R', 'R']\n",
      "Experimento 1: [0] -> B; Poblacion restante: ['R', 'R', 'R']\n",
      "Forma 2 - Usando el metodo sample\n",
      "Poblacion inicial: ['B', 'B', 'R', 'R', 'R']\n",
      "Bolas elegidas: ['R', 'B']\n"
     ]
    }
   ],
   "source": []
  },
  {
   "cell_type": "markdown",
   "metadata": {},
   "source": [
    "## Ejercicio\n",
    "\n",
    "Se tiene un mazo de cartas imparcial y bien mezclado de 52 cartas. Consta de cuatro palos. Los palos son tréboles, diamantes, corazones y picas. Hay 13 cartas en cada palo que consisten en 1, 2, 3, 4, 5, 6, 7, 8, 9, 10, J (sota), Q (reina) y K (rey) de ese palo. P = picas, C = corazones, D = diamantes T = tréboles. Si se sacan cuatro cartas, simule en python los casos cuando el muestreo es:\n",
    "1. Con reemplazo (**Pista**: Use la función ```random.choices```)\n",
    "2. Sin reemplazo (**Pista**: Use la función ```random.select```)\n"
   ]
  },
  {
   "cell_type": "code",
   "execution_count": 67,
   "metadata": {},
   "outputs": [],
   "source": [
    "# Muestreo con reemplazo\n",
    "# Coloque el codigo abajo...\n",
    "\n"
   ]
  },
  {
   "cell_type": "code",
   "execution_count": 68,
   "metadata": {},
   "outputs": [],
   "source": [
    "# Muestreo sin reemplazo\n",
    "# Coloque el codigo abajo...\n",
    "\n"
   ]
  },
  {
   "cell_type": "markdown",
   "metadata": {},
   "source": [
    "En construcción..."
   ]
  },
  {
   "cell_type": "code",
   "execution_count": null,
   "metadata": {},
   "outputs": [],
   "source": []
  },
  {
   "cell_type": "code",
   "execution_count": null,
   "metadata": {},
   "outputs": [],
   "source": []
  },
  {
   "cell_type": "markdown",
   "metadata": {},
   "source": [
    "## Tablas de contingencia"
   ]
  },
  {
   "cell_type": "code",
   "execution_count": null,
   "metadata": {},
   "outputs": [],
   "source": []
  },
  {
   "cell_type": "markdown",
   "metadata": {},
   "source": [
    "## Referencias\n",
    "\n",
    "1. https://pynative.com/python-random-sample/\n",
    "2. https://www.educative.io/answers/what-is-randomsample-in-python\n",
    "3. https://note.nkmk.me/en/python-random-choice-sample-choices/\n",
    "4. https://www.boardinfinity.com/blog/random-sample-in-python/\n",
    "5. https://www.codecademy.com/resources/docs/python/random-module/choice\n",
    "6. https://maxhalford.github.io/blog/weighted-sampling-without-replacement/\n",
    "7. https://sparkbyexamples.com/numpy/how-to-use-numpy-random-choice-in-python/\n",
    "8. https://www.educative.io/answers/what-is-the-randomchoices-method-in-python\n",
    "9. https://www.w3schools.com/python/ref_random_choices.asp\n",
    "10. https://www.geeksforgeeks.org/random-choices-method-in-python/\n",
    "11. https://interactivechaos.com/en/python/function/randomchoice\n",
    "12. https://docs.python.org/es/3/library/random.html\n",
    "13. https://www.geeksforgeeks.org/randomly-select-elements-from-list-without-repetition-in-python/\n",
    "14. https://openstax.org/details/books/contemporary-mathematics\n",
    "15. https://realpython.com/python-itertools/\n",
    "16. https://www.pythoncheatsheet.org/modules/itertools-module\n",
    "17. "
   ]
  }
 ],
 "metadata": {
  "kernelspec": {
   "display_name": "Python 3",
   "language": "python",
   "name": "python3"
  },
  "language_info": {
   "codemirror_mode": {
    "name": "ipython",
    "version": 3
   },
   "file_extension": ".py",
   "mimetype": "text/x-python",
   "name": "python",
   "nbconvert_exporter": "python",
   "pygments_lexer": "ipython3",
   "version": "3.9.13"
  },
  "orig_nbformat": 4
 },
 "nbformat": 4,
 "nbformat_minor": 2
}
