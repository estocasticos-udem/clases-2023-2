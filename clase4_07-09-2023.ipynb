{
 "cells": [
  {
   "cell_type": "markdown",
   "metadata": {},
   "source": [
    "<a target=\"_blank\" href=\"https://colab.research.google.com/github/estocasticos-udem/clases-2023-2/blob/main/clase3_10-08-2023.ipynb\">\n",
    "  <img src=\"https://colab.research.google.com/assets/colab-badge.svg\" alt=\"Open In Colab\"/>\n",
    "</a>"
   ]
  },
  {
   "cell_type": "code",
   "execution_count": 53,
   "metadata": {},
   "outputs": [],
   "source": [
    "import random\n",
    "import scipy.stats as stats\n",
    "import numpy as np\n",
    "import matplotlib.pyplot as plt\n",
    "import pandas as pd\n",
    "import itertools"
   ]
  },
  {
   "cell_type": "markdown",
   "metadata": {},
   "source": [
    "# Clase 4\n",
    "\n",
    "* **Tema**: Variables aleatorias\n",
    "* **Fecha**: 07/09/2023"
   ]
  },
  {
   "cell_type": "markdown",
   "metadata": {},
   "source": [
    "## Variables aleatorias\n",
    "\n",
    "En construcción...\n",
    "\n"
   ]
  },
  {
   "cell_type": "markdown",
   "metadata": {},
   "source": [
    "**Ejemplo 2**: Suponga un experimento que consiste en lanzar una moneda no cargada tres veces\n",
    "1. Obtenga el espacio muestral\n",
    "2. Sea la VA $X$ = *Numero de caras obtenidas en el lanzamiento*, detalle una tabla donde se muestre el valor de $X$ asociado a cada una de las salidas en el espacio muestral\n",
    "3. Muestre de manera resumida, las salidas asociadas a cada cantidad de caras.\n",
    "4. Obtenga la tabla asociada a la funcion de probabilidad.\n",
    "5. Obtenga la grafica asociada a la función de probabilidad.\n",
    "6. ¿Cual es el valo esperado?\n"
   ]
  },
  {
   "cell_type": "code",
   "execution_count": 54,
   "metadata": {},
   "outputs": [
    {
     "name": "stdout",
     "output_type": "stream",
     "text": [
      "S = [('H', 'H', 'H'), ('H', 'H', 'T'), ('H', 'T', 'H'), ('H', 'T', 'T'), ('T', 'H', 'H'), ('T', 'H', 'T'), ('T', 'T', 'H'), ('T', 'T', 'T')]\n",
      "caras = [3, 2, 2, 1, 2, 1, 1, 0]\n"
     ]
    }
   ],
   "source": [
    "# 1. Espacio muestral\n",
    "\n",
    "moneda_1 = ['H', 'T']\n",
    "moneda_2 = ['H', 'T']\n",
    "moneda_3 = ['H', 'T']\n",
    "\n",
    "# Espacio muestral\n",
    "S = list(itertools.product(moneda_1, moneda_2,moneda_3))\n",
    "caras = [s_i.count('H') for s_i in S]\n",
    "print(f\"S = {S}\")\n",
    "print(f\"caras = {caras}\")"
   ]
  },
  {
   "cell_type": "code",
   "execution_count": 55,
   "metadata": {},
   "outputs": [
    {
     "data": {
      "text/html": [
       "<div>\n",
       "<style scoped>\n",
       "    .dataframe tbody tr th:only-of-type {\n",
       "        vertical-align: middle;\n",
       "    }\n",
       "\n",
       "    .dataframe tbody tr th {\n",
       "        vertical-align: top;\n",
       "    }\n",
       "\n",
       "    .dataframe thead th {\n",
       "        text-align: right;\n",
       "    }\n",
       "</style>\n",
       "<table border=\"1\" class=\"dataframe\">\n",
       "  <thead>\n",
       "    <tr style=\"text-align: right;\">\n",
       "      <th></th>\n",
       "      <th>S</th>\n",
       "      <th>caras</th>\n",
       "    </tr>\n",
       "  </thead>\n",
       "  <tbody>\n",
       "    <tr>\n",
       "      <th>0</th>\n",
       "      <td>(H, H, H)</td>\n",
       "      <td>3</td>\n",
       "    </tr>\n",
       "    <tr>\n",
       "      <th>1</th>\n",
       "      <td>(H, H, T)</td>\n",
       "      <td>2</td>\n",
       "    </tr>\n",
       "    <tr>\n",
       "      <th>2</th>\n",
       "      <td>(H, T, H)</td>\n",
       "      <td>2</td>\n",
       "    </tr>\n",
       "    <tr>\n",
       "      <th>3</th>\n",
       "      <td>(H, T, T)</td>\n",
       "      <td>1</td>\n",
       "    </tr>\n",
       "    <tr>\n",
       "      <th>4</th>\n",
       "      <td>(T, H, H)</td>\n",
       "      <td>2</td>\n",
       "    </tr>\n",
       "    <tr>\n",
       "      <th>5</th>\n",
       "      <td>(T, H, T)</td>\n",
       "      <td>1</td>\n",
       "    </tr>\n",
       "    <tr>\n",
       "      <th>6</th>\n",
       "      <td>(T, T, H)</td>\n",
       "      <td>1</td>\n",
       "    </tr>\n",
       "    <tr>\n",
       "      <th>7</th>\n",
       "      <td>(T, T, T)</td>\n",
       "      <td>0</td>\n",
       "    </tr>\n",
       "  </tbody>\n",
       "</table>\n",
       "</div>"
      ],
      "text/plain": [
       "           S  caras\n",
       "0  (H, H, H)      3\n",
       "1  (H, H, T)      2\n",
       "2  (H, T, H)      2\n",
       "3  (H, T, T)      1\n",
       "4  (T, H, H)      2\n",
       "5  (T, H, T)      1\n",
       "6  (T, T, H)      1\n",
       "7  (T, T, T)      0"
      ]
     },
     "execution_count": 55,
     "metadata": {},
     "output_type": "execute_result"
    }
   ],
   "source": [
    "# 2. Dataframe: Relación entre la salida y el numero de caras\n",
    "df = pd.DataFrame({'S': S, 'caras': caras})\n",
    "df"
   ]
  },
  {
   "cell_type": "code",
   "execution_count": 56,
   "metadata": {},
   "outputs": [
    {
     "data": {
      "text/html": [
       "<div>\n",
       "<style scoped>\n",
       "    .dataframe tbody tr th:only-of-type {\n",
       "        vertical-align: middle;\n",
       "    }\n",
       "\n",
       "    .dataframe tbody tr th {\n",
       "        vertical-align: top;\n",
       "    }\n",
       "\n",
       "    .dataframe thead th {\n",
       "        text-align: right;\n",
       "    }\n",
       "</style>\n",
       "<table border=\"1\" class=\"dataframe\">\n",
       "  <thead>\n",
       "    <tr style=\"text-align: right;\">\n",
       "      <th></th>\n",
       "      <th></th>\n",
       "      <th>0</th>\n",
       "    </tr>\n",
       "    <tr>\n",
       "      <th>caras</th>\n",
       "      <th>S</th>\n",
       "      <th></th>\n",
       "    </tr>\n",
       "  </thead>\n",
       "  <tbody>\n",
       "    <tr>\n",
       "      <th>0</th>\n",
       "      <th>(T, T, T)</th>\n",
       "      <td>1</td>\n",
       "    </tr>\n",
       "    <tr>\n",
       "      <th rowspan=\"3\" valign=\"top\">1</th>\n",
       "      <th>(H, T, T)</th>\n",
       "      <td>1</td>\n",
       "    </tr>\n",
       "    <tr>\n",
       "      <th>(T, H, T)</th>\n",
       "      <td>1</td>\n",
       "    </tr>\n",
       "    <tr>\n",
       "      <th>(T, T, H)</th>\n",
       "      <td>1</td>\n",
       "    </tr>\n",
       "    <tr>\n",
       "      <th rowspan=\"3\" valign=\"top\">2</th>\n",
       "      <th>(H, H, T)</th>\n",
       "      <td>1</td>\n",
       "    </tr>\n",
       "    <tr>\n",
       "      <th>(H, T, H)</th>\n",
       "      <td>1</td>\n",
       "    </tr>\n",
       "    <tr>\n",
       "      <th>(T, H, H)</th>\n",
       "      <td>1</td>\n",
       "    </tr>\n",
       "    <tr>\n",
       "      <th>3</th>\n",
       "      <th>(H, H, H)</th>\n",
       "      <td>1</td>\n",
       "    </tr>\n",
       "  </tbody>\n",
       "</table>\n",
       "</div>"
      ],
      "text/plain": [
       "                 0\n",
       "caras S           \n",
       "0     (T, T, T)  1\n",
       "1     (H, T, T)  1\n",
       "      (T, H, T)  1\n",
       "      (T, T, H)  1\n",
       "2     (H, H, T)  1\n",
       "      (H, T, H)  1\n",
       "      (T, H, H)  1\n",
       "3     (H, H, H)  1"
      ]
     },
     "execution_count": 56,
     "metadata": {},
     "output_type": "execute_result"
    }
   ],
   "source": [
    "# 3. Salidas agrupadas\n",
    "df_caras = pd.DataFrame(df.groupby(\"caras\").value_counts())\n",
    "df_caras"
   ]
  },
  {
   "cell_type": "code",
   "execution_count": 57,
   "metadata": {},
   "outputs": [
    {
     "data": {
      "text/html": [
       "<div>\n",
       "<style scoped>\n",
       "    .dataframe tbody tr th:only-of-type {\n",
       "        vertical-align: middle;\n",
       "    }\n",
       "\n",
       "    .dataframe tbody tr th {\n",
       "        vertical-align: top;\n",
       "    }\n",
       "\n",
       "    .dataframe thead th {\n",
       "        text-align: right;\n",
       "    }\n",
       "</style>\n",
       "<table border=\"1\" class=\"dataframe\">\n",
       "  <thead>\n",
       "    <tr style=\"text-align: right;\">\n",
       "      <th></th>\n",
       "      <th>S</th>\n",
       "      <th>caras</th>\n",
       "      <th>prob</th>\n",
       "    </tr>\n",
       "  </thead>\n",
       "  <tbody>\n",
       "    <tr>\n",
       "      <th>0</th>\n",
       "      <td>(H, H, H)</td>\n",
       "      <td>3</td>\n",
       "      <td>0.125</td>\n",
       "    </tr>\n",
       "    <tr>\n",
       "      <th>1</th>\n",
       "      <td>(H, H, T)</td>\n",
       "      <td>2</td>\n",
       "      <td>0.125</td>\n",
       "    </tr>\n",
       "    <tr>\n",
       "      <th>2</th>\n",
       "      <td>(H, T, H)</td>\n",
       "      <td>2</td>\n",
       "      <td>0.125</td>\n",
       "    </tr>\n",
       "    <tr>\n",
       "      <th>3</th>\n",
       "      <td>(H, T, T)</td>\n",
       "      <td>1</td>\n",
       "      <td>0.125</td>\n",
       "    </tr>\n",
       "    <tr>\n",
       "      <th>4</th>\n",
       "      <td>(T, H, H)</td>\n",
       "      <td>2</td>\n",
       "      <td>0.125</td>\n",
       "    </tr>\n",
       "    <tr>\n",
       "      <th>5</th>\n",
       "      <td>(T, H, T)</td>\n",
       "      <td>1</td>\n",
       "      <td>0.125</td>\n",
       "    </tr>\n",
       "    <tr>\n",
       "      <th>6</th>\n",
       "      <td>(T, T, H)</td>\n",
       "      <td>1</td>\n",
       "      <td>0.125</td>\n",
       "    </tr>\n",
       "    <tr>\n",
       "      <th>7</th>\n",
       "      <td>(T, T, T)</td>\n",
       "      <td>0</td>\n",
       "      <td>0.125</td>\n",
       "    </tr>\n",
       "  </tbody>\n",
       "</table>\n",
       "</div>"
      ],
      "text/plain": [
       "           S  caras   prob\n",
       "0  (H, H, H)      3  0.125\n",
       "1  (H, H, T)      2  0.125\n",
       "2  (H, T, H)      2  0.125\n",
       "3  (H, T, T)      1  0.125\n",
       "4  (T, H, H)      2  0.125\n",
       "5  (T, H, T)      1  0.125\n",
       "6  (T, T, H)      1  0.125\n",
       "7  (T, T, T)      0  0.125"
      ]
     },
     "execution_count": 57,
     "metadata": {},
     "output_type": "execute_result"
    }
   ],
   "source": [
    "# 4. Calculo de las probabilidades\n",
    "N = df.shape[0]\n",
    "P = 1/N\n",
    "df['prob'] = P\n",
    "df"
   ]
  },
  {
   "cell_type": "code",
   "execution_count": 58,
   "metadata": {},
   "outputs": [
    {
     "name": "stdout",
     "output_type": "stream",
     "text": [
      "x = 0 --> P(X = 0) = 0.125\n",
      "x = 1 --> P(X = 1) = 0.375\n",
      "x = 2 --> P(X = 2) = 0.375\n",
      "x = 3 --> P(X = 3) = 0.125\n",
      "{0: 0.125, 1: 0.375, 2: 0.375, 3: 0.125}\n"
     ]
    },
    {
     "data": {
      "text/html": [
       "<div>\n",
       "<style scoped>\n",
       "    .dataframe tbody tr th:only-of-type {\n",
       "        vertical-align: middle;\n",
       "    }\n",
       "\n",
       "    .dataframe tbody tr th {\n",
       "        vertical-align: top;\n",
       "    }\n",
       "\n",
       "    .dataframe thead th {\n",
       "        text-align: right;\n",
       "    }\n",
       "</style>\n",
       "<table border=\"1\" class=\"dataframe\">\n",
       "  <thead>\n",
       "    <tr style=\"text-align: right;\">\n",
       "      <th></th>\n",
       "      <th>P(x)</th>\n",
       "    </tr>\n",
       "    <tr>\n",
       "      <th>x</th>\n",
       "      <th></th>\n",
       "    </tr>\n",
       "  </thead>\n",
       "  <tbody>\n",
       "    <tr>\n",
       "      <th>0</th>\n",
       "      <td>0.125</td>\n",
       "    </tr>\n",
       "    <tr>\n",
       "      <th>1</th>\n",
       "      <td>0.375</td>\n",
       "    </tr>\n",
       "    <tr>\n",
       "      <th>2</th>\n",
       "      <td>0.375</td>\n",
       "    </tr>\n",
       "    <tr>\n",
       "      <th>3</th>\n",
       "      <td>0.125</td>\n",
       "    </tr>\n",
       "  </tbody>\n",
       "</table>\n",
       "</div>"
      ],
      "text/plain": [
       "    P(x)\n",
       "x       \n",
       "0  0.125\n",
       "1  0.375\n",
       "2  0.375\n",
       "3  0.125"
      ]
     },
     "execution_count": 58,
     "metadata": {},
     "output_type": "execute_result"
    }
   ],
   "source": [
    "# 4. Obtención de la funcion de probabilidad\n",
    "x = [0, 1, 2, 3]\n",
    "prob_model = {}\n",
    "for x_i in x:\n",
    "    prob_x_i = df[\"prob\"].where(df[\"caras\"] == x_i).dropna().sum()\n",
    "    print(f\"x = {x_i} --> P(X = {x_i}) = {prob_x_i}\")\n",
    "    prob_model[x_i] = prob_x_i\n",
    "print(prob_model)\n",
    "df_model = pd.DataFrame({\"x\": prob_model.keys(), \"P(x)\": prob_model.values()}) \n",
    "df_model = df_model.set_index('x')\n",
    "df_model"
   ]
  },
  {
   "cell_type": "code",
   "execution_count": 59,
   "metadata": {},
   "outputs": [
    {
     "data": {
      "text/html": [
       "<div>\n",
       "<style scoped>\n",
       "    .dataframe tbody tr th:only-of-type {\n",
       "        vertical-align: middle;\n",
       "    }\n",
       "\n",
       "    .dataframe tbody tr th {\n",
       "        vertical-align: top;\n",
       "    }\n",
       "\n",
       "    .dataframe thead th {\n",
       "        text-align: right;\n",
       "    }\n",
       "</style>\n",
       "<table border=\"1\" class=\"dataframe\">\n",
       "  <thead>\n",
       "    <tr style=\"text-align: right;\">\n",
       "      <th></th>\n",
       "      <th>P(x)</th>\n",
       "    </tr>\n",
       "    <tr>\n",
       "      <th>x</th>\n",
       "      <th></th>\n",
       "    </tr>\n",
       "  </thead>\n",
       "  <tbody>\n",
       "    <tr>\n",
       "      <th>0</th>\n",
       "      <td>0.125</td>\n",
       "    </tr>\n",
       "    <tr>\n",
       "      <th>1</th>\n",
       "      <td>0.375</td>\n",
       "    </tr>\n",
       "    <tr>\n",
       "      <th>2</th>\n",
       "      <td>0.375</td>\n",
       "    </tr>\n",
       "    <tr>\n",
       "      <th>3</th>\n",
       "      <td>0.125</td>\n",
       "    </tr>\n",
       "  </tbody>\n",
       "</table>\n",
       "</div>"
      ],
      "text/plain": [
       "    P(x)\n",
       "x       \n",
       "0  0.125\n",
       "1  0.375\n",
       "2  0.375\n",
       "3  0.125"
      ]
     },
     "execution_count": 59,
     "metadata": {},
     "output_type": "execute_result"
    }
   ],
   "source": [
    "# 4. Tabla de la funcion de probabilidad\n",
    "df_model = pd.DataFrame({\"x\": prob_model.keys(), \"P(x)\": prob_model.values()}) \n",
    "df_model = df_model.set_index('x')\n",
    "df_model"
   ]
  },
  {
   "cell_type": "code",
   "execution_count": 60,
   "metadata": {},
   "outputs": [
    {
     "data": {
      "image/png": "[encoded data removed]",
      "text/plain": [
       "<Figure size 640x480 with 1 Axes>"
      ]
     },
     "metadata": {},
     "output_type": "display_data"
    }
   ],
   "source": [
    "# 5. Grafica\n",
    "plt.plot(x, df_model[\"P(x)\"], 'bs', ms=10)\n",
    "plt.vlines(x, 0, df_model[\"P(x)\"], colors='b', lw = 5, alpha=0.5)\n",
    "plt.xlabel(\"$X$: Numero de caras\")\n",
    "plt.ylabel(\"$P(X = x)$\")\n",
    "plt.title(\"Lanzamiento de tres monedas\")\n",
    "plt.show()"
   ]
  },
  {
   "cell_type": "markdown",
   "metadata": {},
   "source": [
    "**Ejemplo 2**: \n",
    "Un psicólogo infantil se interesa por el número de veces que el llanto de un recién nacido despierta a su madre después de la medianoche. Para una muestra aleatoria de 50 madres, se obtuvo la siguiente información. \n",
    "\n",
    "|$x$|$P_X(x)$|\n",
    "|---|---|\n",
    "|0|$P_X(x = 0) = \\frac{2}{50}$|\n",
    "|1|$P_X(x = 1) = \\frac{11}{50}$|\n",
    "|2|$P_X(x = 2) = \\frac{23}{50}$|\n",
    "|3|$P_X(x = 3) = \\frac{9}{50}$|\n",
    "|4|$P_X(x = 4) = \\frac{4}{50}$|\n",
    "|5|$P_X(x = 5) = \\frac{1}{50}$|\n",
    "\n",
    "Donde:\n",
    "* **VA**: $X$ numero de el número de veces por semana que el llanto de un recién nacido despierta a su madre después de la medianoche.\n",
    "* **Valores que toma la VA**: $x = {0,1,2,3,4,5}$\n",
    "\n",
    "Se pide:\n",
    "1. Obtenga una tabla asociada a la función de probabilidad.\n",
    "2. Obtenga la grafica de la función de probabilidad.\n"
   ]
  },
  {
   "cell_type": "code",
   "execution_count": 61,
   "metadata": {},
   "outputs": [
    {
     "data": {
      "text/html": [
       "<div>\n",
       "<style scoped>\n",
       "    .dataframe tbody tr th:only-of-type {\n",
       "        vertical-align: middle;\n",
       "    }\n",
       "\n",
       "    .dataframe tbody tr th {\n",
       "        vertical-align: top;\n",
       "    }\n",
       "\n",
       "    .dataframe thead th {\n",
       "        text-align: right;\n",
       "    }\n",
       "</style>\n",
       "<table border=\"1\" class=\"dataframe\">\n",
       "  <thead>\n",
       "    <tr style=\"text-align: right;\">\n",
       "      <th></th>\n",
       "      <th>P(x)</th>\n",
       "    </tr>\n",
       "    <tr>\n",
       "      <th>x</th>\n",
       "      <th></th>\n",
       "    </tr>\n",
       "  </thead>\n",
       "  <tbody>\n",
       "    <tr>\n",
       "      <th>0</th>\n",
       "      <td>0.04</td>\n",
       "    </tr>\n",
       "    <tr>\n",
       "      <th>1</th>\n",
       "      <td>0.22</td>\n",
       "    </tr>\n",
       "    <tr>\n",
       "      <th>2</th>\n",
       "      <td>0.46</td>\n",
       "    </tr>\n",
       "    <tr>\n",
       "      <th>3</th>\n",
       "      <td>0.18</td>\n",
       "    </tr>\n",
       "    <tr>\n",
       "      <th>4</th>\n",
       "      <td>0.08</td>\n",
       "    </tr>\n",
       "    <tr>\n",
       "      <th>5</th>\n",
       "      <td>0.02</td>\n",
       "    </tr>\n",
       "  </tbody>\n",
       "</table>\n",
       "</div>"
      ],
      "text/plain": [
       "   P(x)\n",
       "x      \n",
       "0  0.04\n",
       "1  0.22\n",
       "2  0.46\n",
       "3  0.18\n",
       "4  0.08\n",
       "5  0.02"
      ]
     },
     "execution_count": 61,
     "metadata": {},
     "output_type": "execute_result"
    }
   ],
   "source": [
    "# 1. Tabla\n",
    "x = range(0,6)\n",
    "p_x = [2/50, 11/50, 23/50, 9/50, 4/50, 1/50]\n",
    "df_model = pd.DataFrame({\"x\": x, \"P(x)\": p_x}, index= x) \n",
    "df_model = df_model.set_index('x')\n",
    "df_model"
   ]
  },
  {
   "cell_type": "code",
   "execution_count": 62,
   "metadata": {},
   "outputs": [
    {
     "data": {
      "image/png": "[encoded data removed]",
      "text/plain": [
       "<Figure size 640x480 with 1 Axes>"
      ]
     },
     "metadata": {},
     "output_type": "display_data"
    }
   ],
   "source": [
    "# 2. Grafica\n",
    "plt.plot(x, df_model[\"P(x)\"], 'rs', ms=10)\n",
    "plt.vlines(x, 0, df_model[\"P(x)\"], colors='r', lw = 5, alpha=0.5)\n",
    "plt.xlabel(\"$X$: Numero de veces por semana que el llanto de un recien\\n salido despierta a la madre despues de media noche\")\n",
    "plt.ylabel(\"$P(X = x)$\")\n",
    "plt.title(\"Veces que la madre es despertada\")\n",
    "plt.show()"
   ]
  },
  {
   "cell_type": "code",
   "execution_count": 63,
   "metadata": {},
   "outputs": [
    {
     "name": "stdout",
     "output_type": "stream",
     "text": [
      "2.1\n"
     ]
    }
   ],
   "source": [
    "# 6. Valor esperado\n",
    "mu_x = sum(df_model['P(x)'] * df_model.index)\n",
    "print(mu_x)"
   ]
  },
  {
   "cell_type": "markdown",
   "metadata": {},
   "source": [
    "**Ejemplo 3**: \n",
    "Supongamos que Nancy tiene clases tres días a la semana. Asiste a clases tres días a la semana el 80 % del tiempo, dos días el 15 % del tiempo, un día el 4 % del tiempo y ningún día el 1 % del tiempo. Supongamos que se selecciona una semana al azar.\n",
    "\n",
    "Donde:\n",
    "* **VA**: $X$ el número de días a la semana que Nancy asiste a clase.\n",
    "* **Valores que toma la VA**: $x = {0,1,2,3}$\n",
    "\n",
    "Se pide:\n",
    "1. Obtenga una tabla asociada a la función de probabilidad.\n",
    "2. Obtenga la grafica de la función de probabilidad."
   ]
  },
  {
   "cell_type": "code",
   "execution_count": 64,
   "metadata": {},
   "outputs": [
    {
     "data": {
      "text/html": [
       "<div>\n",
       "<style scoped>\n",
       "    .dataframe tbody tr th:only-of-type {\n",
       "        vertical-align: middle;\n",
       "    }\n",
       "\n",
       "    .dataframe tbody tr th {\n",
       "        vertical-align: top;\n",
       "    }\n",
       "\n",
       "    .dataframe thead th {\n",
       "        text-align: right;\n",
       "    }\n",
       "</style>\n",
       "<table border=\"1\" class=\"dataframe\">\n",
       "  <thead>\n",
       "    <tr style=\"text-align: right;\">\n",
       "      <th></th>\n",
       "      <th>P(x)</th>\n",
       "    </tr>\n",
       "    <tr>\n",
       "      <th>x</th>\n",
       "      <th></th>\n",
       "    </tr>\n",
       "  </thead>\n",
       "  <tbody>\n",
       "    <tr>\n",
       "      <th>0</th>\n",
       "      <td>0.01</td>\n",
       "    </tr>\n",
       "    <tr>\n",
       "      <th>1</th>\n",
       "      <td>0.04</td>\n",
       "    </tr>\n",
       "    <tr>\n",
       "      <th>2</th>\n",
       "      <td>0.15</td>\n",
       "    </tr>\n",
       "    <tr>\n",
       "      <th>3</th>\n",
       "      <td>0.80</td>\n",
       "    </tr>\n",
       "  </tbody>\n",
       "</table>\n",
       "</div>"
      ],
      "text/plain": [
       "   P(x)\n",
       "x      \n",
       "0  0.01\n",
       "1  0.04\n",
       "2  0.15\n",
       "3  0.80"
      ]
     },
     "execution_count": 64,
     "metadata": {},
     "output_type": "execute_result"
    }
   ],
   "source": [
    "# 1. Tabla\n",
    "x = [0, 1, 2, 3]\n",
    "p_x = [0.01, 0.04, 0.15, 0.8]\n",
    "df_model = pd.DataFrame({\"x\": x, \"P(x)\": p_x}, index= x) \n",
    "df_model = df_model.set_index('x')\n",
    "df_model"
   ]
  },
  {
   "cell_type": "code",
   "execution_count": 65,
   "metadata": {},
   "outputs": [
    {
     "data": {
      "image/png": "[encoded data removed]",
      "text/plain": [
       "<Figure size 640x480 with 1 Axes>"
      ]
     },
     "metadata": {},
     "output_type": "display_data"
    }
   ],
   "source": [
    "# 2. Grafica\n",
    "plt.plot(x, df_model[\"P(x)\"], 'gs', ms=10)\n",
    "plt.vlines(x, 0, df_model[\"P(x)\"], colors='g', lw = 5, alpha=0.5)\n",
    "plt.xlabel(\"$X$: número de días a la semana que Nancy asiste a clase\")\n",
    "plt.ylabel(\"$P(X = x)$\")\n",
    "plt.title(\"Asistencia de Nancy\")\n",
    "plt.show()"
   ]
  },
  {
   "cell_type": "markdown",
   "metadata": {},
   "source": [
    "**Ejemplo 4**:\n",
    "Un equipo de fútbol masculino juega al fútbol en cero, en uno o en dos días a la semana. La probabilidad de que jueguen cero días es de 0.2, la de que jueguen un día es de 0.5 y la de que jueguen dos días es de 0.3. Calcule el promedio a largo plazo o el valor esperado, $\\mu$, del número de días por semana que el equipo de fútbol masculino juega al fútbol.\n",
    "\n",
    "Donde:\n",
    "* **VA**: $X$ el número de días que el equipo de fútbol masculino juega al fútbol por semana.\n",
    "* **Valores que toma la VA**: $x = {0,1,2}$\n",
    "\n",
    "Se pide:\n",
    "1. Obtenga una tabla asociada a la función de probabilidad.\n",
    "2. Obtenga la grafica de la función de probabilidad.\n",
    "3. Obtenga la media"
   ]
  },
  {
   "cell_type": "code",
   "execution_count": 66,
   "metadata": {},
   "outputs": [
    {
     "data": {
      "text/html": [
       "<div>\n",
       "<style scoped>\n",
       "    .dataframe tbody tr th:only-of-type {\n",
       "        vertical-align: middle;\n",
       "    }\n",
       "\n",
       "    .dataframe tbody tr th {\n",
       "        vertical-align: top;\n",
       "    }\n",
       "\n",
       "    .dataframe thead th {\n",
       "        text-align: right;\n",
       "    }\n",
       "</style>\n",
       "<table border=\"1\" class=\"dataframe\">\n",
       "  <thead>\n",
       "    <tr style=\"text-align: right;\">\n",
       "      <th></th>\n",
       "      <th>P(x)</th>\n",
       "    </tr>\n",
       "    <tr>\n",
       "      <th>x</th>\n",
       "      <th></th>\n",
       "    </tr>\n",
       "  </thead>\n",
       "  <tbody>\n",
       "    <tr>\n",
       "      <th>0</th>\n",
       "      <td>0.2</td>\n",
       "    </tr>\n",
       "    <tr>\n",
       "      <th>1</th>\n",
       "      <td>0.5</td>\n",
       "    </tr>\n",
       "    <tr>\n",
       "      <th>2</th>\n",
       "      <td>0.3</td>\n",
       "    </tr>\n",
       "  </tbody>\n",
       "</table>\n",
       "</div>"
      ],
      "text/plain": [
       "   P(x)\n",
       "x      \n",
       "0   0.2\n",
       "1   0.5\n",
       "2   0.3"
      ]
     },
     "execution_count": 66,
     "metadata": {},
     "output_type": "execute_result"
    }
   ],
   "source": [
    "# 1. Tabla\n",
    "x = [0, 1, 2]\n",
    "p_x = [0.2, 0.5, 0.3]\n",
    "df_model = pd.DataFrame({\"x\": x, \"P(x)\": p_x}, index= x) \n",
    "df_model = df_model.set_index('x')\n",
    "df_model"
   ]
  },
  {
   "cell_type": "code",
   "execution_count": 67,
   "metadata": {},
   "outputs": [
    {
     "data": {
      "image/png": "[encoded data removed]",
      "text/plain": [
       "<Figure size 640x480 with 1 Axes>"
      ]
     },
     "metadata": {},
     "output_type": "display_data"
    }
   ],
   "source": [
    "# 2. Grafica\n",
    "plt.plot(x, df_model[\"P(x)\"], 'bs', ms=10)\n",
    "plt.vlines(x, 0, df_model[\"P(x)\"], colors='b', lw = 5, alpha=0.5)\n",
    "plt.xlabel(\"$X$: número de días a la semana que Nancy asiste a clase\")\n",
    "plt.ylabel(\"$P(X = x)$\")\n",
    "plt.title(\"Asistencia de Nancy\")\n",
    "plt.show()"
   ]
  },
  {
   "cell_type": "code",
   "execution_count": 68,
   "metadata": {},
   "outputs": [
    {
     "name": "stdout",
     "output_type": "stream",
     "text": [
      "1.1\n"
     ]
    }
   ],
   "source": [
    "# 3. media\n",
    "def weighted_average(df, weights):\n",
    "    return sum(df[weights] * df_model.index)\n",
    "print(weighted_average(df_model, 'P(x)'))"
   ]
  },
  {
   "cell_type": "markdown",
   "metadata": {},
   "source": [
    "**Ejemplo 5**: \n",
    "En construcción\n"
   ]
  },
  {
   "cell_type": "markdown",
   "metadata": {},
   "source": [
    "## Referencias\n",
    "\n",
    "1. https://pynative.com/python-random-sample/\n",
    "2. https://www.educative.io/answers/what-is-randomsample-in-python\n",
    "3. https://note.nkmk.me/en/python-random-choice-sample-choices/\n",
    "4. https://www.boardinfinity.com/blog/random-sample-in-python/\n",
    "5. https://www.codecademy.com/resources/docs/python/random-module/choice\n",
    "6. https://maxhalford.github.io/blog/weighted-sampling-without-replacement/\n",
    "7. https://sparkbyexamples.com/numpy/how-to-use-numpy-random-choice-in-python/\n",
    "8. https://www.educative.io/answers/what-is-the-randomchoices-method-in-python\n",
    "9. https://www.w3schools.com/python/ref_random_choices.asp\n",
    "10. https://www.geeksforgeeks.org/random-choices-method-in-python/\n",
    "11. https://interactivechaos.com/en/python/function/randomchoice\n",
    "12. https://docs.python.org/es/3/library/random.html\n",
    "13. https://www.geeksforgeeks.org/randomly-select-elements-from-list-without-repetition-in-python/\n",
    "14. https://openstax.org/details/books/contemporary-mathematics\n",
    "15. https://realpython.com/python-itertools/\n",
    "16. https://www.pythoncheatsheet.org/modules/itertools-module\n",
    "17. "
   ]
  }
 ],
 "metadata": {
  "kernelspec": {
   "display_name": "Python 3",
   "language": "python",
   "name": "python3"
  },
  "language_info": {
   "codemirror_mode": {
    "name": "ipython",
    "version": 3
   },
   "file_extension": ".py",
   "mimetype": "text/x-python",
   "name": "python",
   "nbconvert_exporter": "python",
   "pygments_lexer": "ipython3",
   "version": "3.9.13"
  },
  "orig_nbformat": 4
 },
 "nbformat": 4,
 "nbformat_minor": 2
}
