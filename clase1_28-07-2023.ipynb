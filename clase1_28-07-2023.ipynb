{
 "cells": [
  {
   "cell_type": "markdown",
   "metadata": {},
   "source": [
    "<a target=\"_blank\" href=\"https://colab.research.google.com/github/estocasticos-udem/clases-2023-2/blob/main/clase1_28-07-2023.ipynb\">\n",
    "  <img src=\"https://colab.research.google.com/assets/colab-badge.svg\" alt=\"Open In Colab\"/>\n",
    "</a>"
   ]
  },
  {
   "cell_type": "markdown",
   "metadata": {},
   "source": [
    "# Clase 1\n",
    "\n",
    "* **Tema**: Introducción a la teoria de conjuntos\n",
    "* **Fecha**: 28/07/2023"
   ]
  },
  {
   "cell_type": "markdown",
   "metadata": {},
   "source": [
    "## Ejemplos clase"
   ]
  },
  {
   "attachments": {},
   "cell_type": "markdown",
   "metadata": {},
   "source": [
    "**Ejemplo 1**: Usando Python, definir los siguientes conjuntos:\n",
    "\n",
    "- ```A = {1, 2, 3, 4, 5, 6}```\n",
    "- ```B = {6, 7, 8, 9}```\n",
    "- ```U = {1, 2, 3, 4, 5, 6, 7, 8, 9, 10, 11, 12}```"
   ]
  },
  {
   "cell_type": "code",
   "execution_count": 6,
   "metadata": {},
   "outputs": [
    {
     "name": "stdout",
     "output_type": "stream",
     "text": [
      "A = {1, 2, 3, 4, 5, 6}\n",
      "B = {8, 9, 6, 7}\n",
      "U = {1, 2, 3, 4, 5, 6, 7, 8, 9, 10, 11, 12}\n"
     ]
    }
   ],
   "source": [
    "# Codigo...\n",
    "A = set([1, 2, 3, 4, 5, 6])\n",
    "B = {6, 7, 8, 9}\n",
    "U = set(range(1,13))\n",
    "print(\"A =\", A)\n",
    "print(\"B =\", B)\n",
    "print(\"U =\", U)"
   ]
  },
  {
   "cell_type": "markdown",
   "metadata": {},
   "source": [
    "**Ejemplo 2**: En los conjuntos anteriormente mostrados, realizar las siguientes operaciones usando python:\n",
    "* $A \\cup B$\n",
    "* $A \\cap B$\n",
    "* $A - B$\n",
    "* $B - A$\n",
    "* $A^C$\n",
    "* $B^C$"
   ]
  },
  {
   "cell_type": "code",
   "execution_count": 2,
   "metadata": {},
   "outputs": [
    {
     "name": "stdout",
     "output_type": "stream",
     "text": [
      "A or B = {1, 2, 3, 4, 5, 6, 7, 8, 9}\n",
      "A and B = {6}\n",
      "B - A = {8, 9, 7}\n",
      "A - B = {1, 2, 3, 4, 5}\n",
      "A' = {7, 8, 9, 10, 11, 12}\n",
      "B' = {1, 2, 3, 4, 5, 10, 11, 12}\n"
     ]
    }
   ],
   "source": [
    "# Union\n",
    "A_or_B = A.union(B)\n",
    "print(\"A or B =\", A_or_B)\n",
    "\n",
    "# Interseccion\n",
    "A_and_B = A.intersection(B)\n",
    "print(\"A and B =\", A_and_B)\n",
    "\n",
    "# Diferencia\n",
    "B_menos_A = B - A\n",
    "print(\"B - A =\", B_menos_A)\n",
    "A_menos_B = A.difference(B)  # A - B\n",
    "print(\"A - B =\", A_menos_B)\n",
    "\n",
    "# Complemento\n",
    "A_C = U - A\n",
    "print(\"A' =\", A_C)\n",
    "B_C = U.difference(B)\n",
    "print(\"B' =\", B_C)"
   ]
  },
  {
   "cell_type": "markdown",
   "metadata": {},
   "source": [
    "**Ejemplo 3**: Enunciado en construcción"
   ]
  },
  {
   "cell_type": "code",
   "execution_count": 3,
   "metadata": {},
   "outputs": [
    {
     "name": "stdout",
     "output_type": "stream",
     "text": [
      "A - B = {6, 7, 8, 9, 10, 11, 12}\n"
     ]
    }
   ],
   "source": [
    "print(\"A - B =\", U.difference(A.difference(B)))"
   ]
  },
  {
   "cell_type": "markdown",
   "metadata": {},
   "source": [
    "**Ejemplo 4**: Enunciado en construcción"
   ]
  },
  {
   "cell_type": "code",
   "execution_count": 4,
   "metadata": {},
   "outputs": [
    {
     "name": "stdout",
     "output_type": "stream",
     "text": [
      "<class 'set'>\n"
     ]
    }
   ],
   "source": [
    "vacio = set()\n",
    "print(type(vacio))"
   ]
  },
  {
   "cell_type": "markdown",
   "metadata": {},
   "source": [
    "**Ejemplo 5**: Enunciado en construcción"
   ]
  },
  {
   "cell_type": "code",
   "execution_count": 5,
   "metadata": {},
   "outputs": [
    {
     "name": "stdout",
     "output_type": "stream",
     "text": [
      "(A - B) and B = set()\n"
     ]
    }
   ],
   "source": [
    "print(\"(A - B) and B =\", (A.difference(B)).intersection(B))"
   ]
  },
  {
   "attachments": {},
   "cell_type": "markdown",
   "metadata": {},
   "source": [
    "## Actividad\n",
    "\n",
    "Se tienen dos estudiantes que ven las siguientes materias:\n",
    "\n",
    "```python\n",
    "M1 = {\n",
    "      \"Tecnologias Inalambricas\", \"Tecnologias Cableadas\", \"Sistemas de Supervicion\", \n",
    "      \"Señales II\", \"Procesos Estocasticos\"\n",
    "     }\n",
    "M2 = {\n",
    "       \"Procesos Estocasticos\", \"Teoria Electromagnetica\", \"Electronica de Potencia\", \n",
    "       \"Desarrollo de Apliaciones Web\", \"Metrologia e Instrumentacion\",\n",
    "       \"Filosofia del pensamiento logico\"\n",
    "     }\n",
    "```\n",
    "\n",
    "Enunciado en construcción..."
   ]
  },
  {
   "attachments": {},
   "cell_type": "markdown",
   "metadata": {},
   "source": [
    "## Referencias\n",
    "\n",
    "1. https://realpython.com/python-sets/\n",
    "2. https://www.datacamp.com/tutorial/sets-in-python\n",
    "3. https://py3.codeskulptor.org/docs.html\n",
    "4. https://www.markdownguide.org/basic-syntax/\n",
    "5. https://openincolab.com/\n",
    "6. https://realpython.com/python-itertools/\n"
   ]
  }
 ],
 "metadata": {
  "kernelspec": {
   "display_name": "Python 3",
   "language": "python",
   "name": "python3"
  },
  "language_info": {
   "codemirror_mode": {
    "name": "ipython",
    "version": 3
   },
   "file_extension": ".py",
   "mimetype": "text/x-python",
   "name": "python",
   "nbconvert_exporter": "python",
   "pygments_lexer": "ipython3",
   "version": "3.9.13"
  },
  "orig_nbformat": 4,
  "vscode": {
   "interpreter": {
    "hash": "7ca28e188d3642ea0f6b818ba2f398115b2af708aaa4349ae36c267a1f6475ff"
   }
  }
 },
 "nbformat": 4,
 "nbformat_minor": 2
}
