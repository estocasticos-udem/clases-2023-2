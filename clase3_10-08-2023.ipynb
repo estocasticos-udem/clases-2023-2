{
 "cells": [
  {
   "cell_type": "markdown",
   "metadata": {},
   "source": [
    "<a target=\"_blank\" href=\"https://colab.research.google.com/github/estocasticos-udem/clases-2023-2/blob/main/clase3_10-08-2023.ipynb\">\n",
    "  <img src=\"https://colab.research.google.com/assets/colab-badge.svg\" alt=\"Open In Colab\"/>\n",
    "</a>"
   ]
  },
  {
   "cell_type": "code",
   "execution_count": 7,
   "metadata": {},
   "outputs": [],
   "source": [
    "import random"
   ]
  },
  {
   "cell_type": "markdown",
   "metadata": {},
   "source": [
    "# Clase 3\n",
    "\n",
    "* **Tema**: Probabilidad\n",
    "* **Fecha**: 10/08/2023"
   ]
  },
  {
   "cell_type": "markdown",
   "metadata": {},
   "source": [
    "## Probabilidad \n",
    "\n",
    "### Definicion\n",
    "\n",
    "$$P(E) = \\frac{N(E)}{N}$$\n",
    "\n",
    "### Axiomas de probabilidad\n",
    "\n",
    "Para cada evento $E$, si $P(E)$ es la probabilidad de que el evento $E$ ocurra tenemos que:\n",
    "\n",
    "1. $0 \\leq P(E) \\leq 1$\n",
    "2. P(S) = 1 $\n",
    "3. $P(E) + P(E^C) = 1$\n",
    "\n",
    "Si extendemos el problema para $n$ eventos mutuamente exclusivos $E_1, E_2,...E_n$, podemos hacer la siguiente generalización:\n",
    "\n",
    "$$P\\left ( \\bigcup_{n}^{i = 1} E_i\\right )=\\sum_{i=1}^{n}P(E_i)$$\n",
    "\n"
   ]
  },
  {
   "cell_type": "markdown",
   "metadata": {},
   "source": [
    "## Eventos\n",
    "\n",
    "### Eventos independendientes\n",
    "\n",
    "Dos eventos $A$ y $B$ son **independientes** si el conocimiento de que uno ha ocurrido no afecta la posibilidad de que ocurra el otro. Para estos se cumple que:\n",
    "\n",
    "$$P(A \\cap B) = P(A)P(B)$$\n",
    "$$P(A|B) = P(A)$$\n",
    "$$P(B|A) = P(B)$$\n",
    "\n",
    "### Eventos dependendientes\n",
    "\n",
    "Dos eventos $A$ y $B$ son **dependientes** si el conocimiento de que un evento ha ocurrido cambia la probabilidad de que otro ocurra. De modo que:\n",
    "\n",
    "$$P(A|B) \\neq P(B|A)$$\n",
    "\n",
    "Donde:\n",
    "\n",
    "$$P(A|B) = \\frac{P(A \\cap B)}{P(B)}$$\n",
    "\n",
    "$$P(B|A) = \\frac{P(B \\cap A)}{P(A)}$$\n",
    "\n",
    "### Eventos mutuamente excluyentes\n",
    "\n",
    "Dos eventos $A$ y $B$ son mutuamente excluyentes, si estos no se pueden dar simultaneamente (a la vez), en otras palabras, o se da uno o se da el otro. Por lo tanto:\n",
    "\n",
    "\n",
    "$$P(A \\cap B) = 0$$"
   ]
  },
  {
   "cell_type": "markdown",
   "metadata": {},
   "source": [
    "## Muestreo\n",
    "\n",
    "### Muestreo con reemplazo\n",
    "\n",
    "En este caso, la muestra se vuelve a poner en la población despues de ser seleccionada.\n",
    "\n",
    "![muestreo_con_reemplazo](muestreo-reemplazo.svg)\n",
    "\n",
    "Si cada miembro de una población es reemplazado después de ser elegido, entonces ese miembro tiene la posibilidad de ser elegido más de una vez.\n",
    "\n",
    "### Muestreo sin reemplazo\n",
    "\n",
    "La muestra, una vez seleccioada, no se vuelve a poner en la población.\n",
    "\n",
    "![muestreo_sin_reemplazo](muestreo-sin-reemplazo.svg)\n",
    "\n",
    "Cada miembro de una población solo lo pueden seleccionar una vez.\n",
    "\n",
    "## Tabla de muestreo\n",
    "\n",
    "![muestreo](muestreo.png)\n",
    "\n",
    "La siguiente tabla da el numero de posibles muestras de tamaño $k$ de una población de tamaño $n$, bajo diferentes suposiciones a cerca de como se recoje la muestra:\n",
    "\n",
    "||El orden importa|El orden no importa|\n",
    "|---|---|---|\n",
    "|**Sin reemplazo**|$n^k$|$\\binom{n+k-1}{k}$|\n",
    "|**Con reemplazo**|$\\frac{n!}{(n-k)!}$|$\\binom{n}{k}$|"
   ]
  },
  {
   "cell_type": "markdown",
   "metadata": {},
   "source": [
    "**Ejemplo 1 - Muestreo con reemplazo**: \n",
    "Se tiene una bolsa con dos bolas azules y cinco bolas rojas. Supongamos que se sacan dos bolas y se debuelve cada una de ellas antes de tomar la siguiente. Realizar la simulación en python."
   ]
  },
  {
   "cell_type": "code",
   "execution_count": 53,
   "metadata": {},
   "outputs": [
    {
     "name": "stdout",
     "output_type": "stream",
     "text": [
      "Forma 1 - Usando indices\n",
      "['B', 'B', 'R', 'R', 'R']\n",
      "Bola 0: [0] -> B\n",
      "Bola 1: [4] -> R\n",
      "Forma 2 - Usando random.choice\n",
      "['B', 'B', 'R', 'R', 'R']\n",
      "Bola 0: R\n",
      "Bola 1: R\n",
      "Forma 3 - Usando random.choices\n",
      "['B', 'B', 'R', 'R', 'R']\n",
      "Bolas elegidas: ['R', 'R']\n",
      "Bola 0: R\n",
      "Bola 1: R\n"
     ]
    }
   ],
   "source": [
    "# Simulacion en python\n",
    "\n",
    "# Forma 1\n",
    "print(\"Forma 1 - Usando indices\")\n",
    "poblacion = 2*['B'] + 3*['R']\n",
    "print(poblacion)\n",
    "num_experimentos = 2\n",
    "for i in range(num_experimentos):\n",
    "    eleccion = random.randint(0, len(poblacion) - 1)\n",
    "    muestra = poblacion[eleccion]\n",
    "    print(f\"Bola {i}: [{eleccion}] -> {muestra}\")\n",
    "\n",
    "# Forma 2\n",
    "print(\"Forma 2 - Usando random.choice\")\n",
    "poblacion = 2*['B'] + 3*['R']\n",
    "print(poblacion)\n",
    "num_experimentos = 2\n",
    "for i in range(num_experimentos):\n",
    "    muestra = random.choice(poblacion)\n",
    "    print(f\"Bola {i}: {muestra}\")\n",
    "\n",
    "# Forma 3\n",
    "print(\"Forma 3 - Usando random.choices\")\n",
    "poblacion = 2*['B'] + 3*['R']\n",
    "print(poblacion)\n",
    "num_experimentos = 2\n",
    "muestras = random.choices(poblacion, k = num_experimentos)\n",
    "print(\"Bolas elegidas: \", muestras, sep=\"\")\n",
    "for i in range(num_experimentos):\n",
    "    print(f\"Bola {i}: {muestras[i]}\")"
   ]
  },
  {
   "cell_type": "markdown",
   "metadata": {},
   "source": [
    "**Ejemplo 2 - Muestreo sin reemplazo**: \n",
    "Se tiene una bolsa con dos bolas azules y cinco bolas rojas. Supongamos que se sacan dos bolas pero no se vuelve a poner ninguna en la bolsa. Realizar la simulación en python."
   ]
  },
  {
   "cell_type": "code",
   "execution_count": 62,
   "metadata": {},
   "outputs": [
    {
     "name": "stdout",
     "output_type": "stream",
     "text": [
      "Forma 1 - Usando indices\n",
      "Poblacion inicial: ['B', 'B', 'R', 'R', 'R']\n",
      "Experimento 0: [1] -> B; Poblacion restante: ['B', 'R', 'R', 'R']\n",
      "Experimento 1: [0] -> B; Poblacion restante: ['R', 'R', 'R']\n",
      "Forma 2 - Usando el metodo sample\n",
      "Poblacion inicial: ['B', 'B', 'R', 'R', 'R']\n",
      "Bolas elegidas: ['R', 'B']\n"
     ]
    }
   ],
   "source": [
    "# Forma 1\n",
    "print(\"Forma 1 - Usando indices\")\n",
    "poblacion = 2*['B'] + 3*['R']\n",
    "print(\"Poblacion inicial:\", poblacion)\n",
    "num_experimentos = 2\n",
    "for i in range(num_experimentos):\n",
    "    eleccion = random.randint(0, len(poblacion) - 1)\n",
    "    muestra = poblacion.pop(eleccion)\n",
    "    print(f\"Experimento {i}: [{eleccion}] -> {muestra}; Poblacion restante: {poblacion}\")\n",
    "\n",
    "# Forma 2 \n",
    "print(\"Forma 2 - Usando el metodo sample\")\n",
    "poblacion = 2*['B'] + 3*['R']\n",
    "print(\"Poblacion inicial:\", poblacion)\n",
    "num_experimentos = 2\n",
    "muestras = random.sample(poblacion, k = num_experimentos)\n",
    "print(\"Bolas elegidas: \", muestras, sep=\"\")"
   ]
  },
  {
   "cell_type": "markdown",
   "metadata": {},
   "source": [
    "## Ejercicio\n",
    "\n",
    "Se tiene un mazo de cartas imparcial y bien mezclado de 52 cartas. Consta de cuatro palos. Los palos son tréboles, diamantes, corazones y picas. Hay 13 cartas en cada palo que consisten en 1, 2, 3, 4, 5, 6, 7, 8, 9, 10, J (sota), Q (reina) y K (rey) de ese palo. P = picas, C = corazones, D = diamantes T = tréboles. Si se sacan cuatro cartas, simule en python los casos cuando el muestreo es:\n",
    "1. Con reemplazo (**Pista**: Use la función ````random.choices``)\n",
    "2. Sin reemplazo (**Pista**: Use la función ````random.select``)\n"
   ]
  },
  {
   "cell_type": "code",
   "execution_count": 69,
   "metadata": {},
   "outputs": [
    {
     "name": "stdout",
     "output_type": "stream",
     "text": [
      "--- Mazo de cartas (Poblacion) ---\n",
      "K♣ K♠ K♥ K♦ Q♣ Q♠ Q♥ Q♦ J♣ J♠\n",
      "J♥ J♦ 10♣ 10♠ 10♥ 10♦ 9♣ 9♠ 9♥ 9♦\n",
      "8♣ 8♠ 8♥ 8♦ 7♣ 7♠ 7♥ 7♦ 6♣ 6♠\n",
      "6♥ 6♦ 5♣ 5♠ 5♥ 5♦ 4♣ 4♠ 4♥ 4♦\n",
      "3♣ 3♠ 3♥ 3♦ 2♣ 2♠ 2♥ 2♦ 1♣ 1♠\n",
      "1♥ 1♦ "
     ]
    }
   ],
   "source": [
    "# Espacio muestral\n",
    "palos = set(u'♥♠♦♣')\n",
    "rangos = u'K,Q,J,10,9,8,7,6,5,4,3,2,1'.split(sep = ',')\n",
    "mazo  = [r + s for r in rangos for s in palos]\n",
    "print(\"--- Mazo de cartas (Poblacion) ---\")\n",
    "for i in range(0,len(mazo)):\n",
    "    if (i + 1)%10 != 0:\n",
    "        print(mazo[i], end = \" \")\n",
    "    else:\n",
    "        print(mazo[i])"
   ]
  },
  {
   "cell_type": "code",
   "execution_count": 67,
   "metadata": {},
   "outputs": [],
   "source": [
    "# Muestreo con reemplazo\n",
    "# Coloque el codigo abajo...\n",
    "\n"
   ]
  },
  {
   "cell_type": "code",
   "execution_count": 68,
   "metadata": {},
   "outputs": [],
   "source": [
    "# Muestreo sin reemplazo\n",
    "# Coloque el codigo abajo...\n",
    "\n"
   ]
  },
  {
   "cell_type": "markdown",
   "metadata": {},
   "source": [
    "## Reglas de probabilidad\n",
    "\n",
    "### Regla de la multiplicacion\n",
    "\n",
    "Si $A$ y $B$ son dos eventos definidos en un espacio muestral, entonces:\n",
    "\n",
    "$$P(A \\cap B) = P(A)P(B|A) = P(B)P(A|B) = P(B \\cap A) $$\n",
    "\n",
    "Si los eventos $A$ y $B$ son independientes entonces: \n",
    "\n",
    "$$P(A \\cap B) = P(A)P(B)$$\n",
    "\n",
    "### Regla de la adicion\n",
    "\n",
    "Si $A$ y $B$ son dos eventos definidos en un espacio muestral, entonces:\n",
    "\n",
    "$$P(A \\cup B) = P(A) +  P(B) - P(A \\cap B) $$\n",
    "\n",
    "Si los eventos $A$ y $B$ son **mutuamente excluyentes** entonces $P(A \\cap B) = 0$ de modo que:\n",
    "\n",
    "\n",
    "$$P(A \\cup B) = P(A) +  P(B)$$"
   ]
  },
  {
   "cell_type": "markdown",
   "metadata": {},
   "source": [
    "## Ley de la probabilidad total (Law of Total Probability (LOTP))\n",
    "\n",
    "Sean $B_1,B_2, B_3,...,B_n$ particiones (es decir, que cada evento $B_i$ es continuo y la union de todos es el espacio muestral completo) del espacio muestral $S$. Tenemos que:\n",
    "\n",
    "$$P(A) = P(A|B_1)P(B_1) + P(A|B_2)P(B_2) + ... + P(A|B_n)P(B_n)$$\n",
    "\n",
    "$$P(A) = P(A \\cap B_1) + P(A \\cap B_2) + ... + P(A \\cap B_n)$$\n",
    "\n",
    "Si hablamos de la **LOTP** con condicionamiento extra, solo tenemos que agregar otro evento ($C$ por ejemplo):\n",
    "\n",
    "$$P(A|C) = P(A|B_1,C)P(B_1|C) + P(A|B_2,C)P(B_2|C) + ... + P(A|B_n,C)P(B_1|C)$$\n",
    "\n",
    "$$P(A \\cap B|C) = P(A \\cap B_1|C) + P(A \\cap B_2|C) + ... + P(A \\cap B_n|C) $$\n",
    "\n",
    "Un caso especial de la **LOPT** con $B$ y $B^C$ como particion:\n",
    "\n",
    "$$P(A) = P(A|B)P(B) + P(A|B^C)P(B^C)$$\n",
    "\n",
    "$$P(A) = P(A \\cap B) + P(A  \\cap B^C)$$\n",
    "\n",
    "\n",
    "\n"
   ]
  },
  {
   "cell_type": "markdown",
   "metadata": {},
   "source": [
    "En construcción..."
   ]
  },
  {
   "cell_type": "markdown",
   "metadata": {},
   "source": [
    "## Referencias\n",
    "\n",
    "1. https://pynative.com/python-random-sample/\n",
    "2. https://www.educative.io/answers/what-is-randomsample-in-python\n",
    "3. https://note.nkmk.me/en/python-random-choice-sample-choices/\n",
    "4. https://www.boardinfinity.com/blog/random-sample-in-python/\n",
    "5. https://www.codecademy.com/resources/docs/python/random-module/choice\n",
    "6. https://maxhalford.github.io/blog/weighted-sampling-without-replacement/\n",
    "7. https://sparkbyexamples.com/numpy/how-to-use-numpy-random-choice-in-python/\n",
    "8. https://www.educative.io/answers/what-is-the-randomchoices-method-in-python\n",
    "9. https://www.w3schools.com/python/ref_random_choices.asp\n",
    "10. https://www.geeksforgeeks.org/random-choices-method-in-python/\n",
    "11. https://interactivechaos.com/en/python/function/randomchoice\n",
    "12. https://docs.python.org/es/3/library/random.html\n",
    "13. https://www.geeksforgeeks.org/randomly-select-elements-from-list-without-repetition-in-python/"
   ]
  }
 ],
 "metadata": {
  "kernelspec": {
   "display_name": "Python 3",
   "language": "python",
   "name": "python3"
  },
  "language_info": {
   "codemirror_mode": {
    "name": "ipython",
    "version": 3
   },
   "file_extension": ".py",
   "mimetype": "text/x-python",
   "name": "python",
   "nbconvert_exporter": "python",
   "pygments_lexer": "ipython3",
   "version": "3.9.13"
  },
  "orig_nbformat": 4
 },
 "nbformat": 4,
 "nbformat_minor": 2
}
