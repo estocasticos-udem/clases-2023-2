{
 "cells": [
  {
   "cell_type": "code",
   "execution_count": 3,
   "metadata": {},
   "outputs": [],
   "source": [
    "import pandas as pd"
   ]
  },
  {
   "cell_type": "markdown",
   "metadata": {},
   "source": [
    "# Actividad\n",
    "\n",
    "**Enunciado**: La siguiente tabla relaciona los pesos y las alturas de un grupo de personas que participan en un estudio de observación.\n",
    "\n",
    "\n",
    "|Peso/Estatura|\tAlto|\tMedio|\tBajo|\tTotales|\n",
    "|---|---|---|---|---|\n",
    "|Obeso|\t18|\t28|\t14|\t|\n",
    "|Normal|\t20|\t51|\t28|\t|\n",
    "|Bajo peso|\t12|\t25|\t9||\t\n",
    "|Totales|||||\t\t\n",
    "\n",
    "Se pide:\n",
    "\n",
    "- Calcule el total de cada fila y columna\n",
    "- Calcule la probabilidad de que una persona elegida al azar de este grupo sea alta.\n",
    "- Calcule la probabilidad de que una persona elegida al azar de este grupo sea obesa y alta.\n",
    "- Calcule la probabilidad de que una persona elegida al azar de este grupo sea alta dado que es obesa.\n",
    "- Calcule la probabilidad de que una persona elegida al azar de este grupo sea obesa, dado que es alta.\n",
    "- Calcule la probabilidad de que una persona elegida al azar de este grupo sea alta y de bajo peso. ¿Los eventos obeso y alto son independientes?"
   ]
  },
  {
   "cell_type": "markdown",
   "metadata": {},
   "source": [
    "## Solucion"
   ]
  },
  {
   "cell_type": "code",
   "execution_count": 4,
   "metadata": {},
   "outputs": [
    {
     "data": {
      "text/html": [
       "<div>\n",
       "<style scoped>\n",
       "    .dataframe tbody tr th:only-of-type {\n",
       "        vertical-align: middle;\n",
       "    }\n",
       "\n",
       "    .dataframe tbody tr th {\n",
       "        vertical-align: top;\n",
       "    }\n",
       "\n",
       "    .dataframe thead th {\n",
       "        text-align: right;\n",
       "    }\n",
       "</style>\n",
       "<table border=\"1\" class=\"dataframe\">\n",
       "  <thead>\n",
       "    <tr style=\"text-align: right;\">\n",
       "      <th></th>\n",
       "      <th>Alto</th>\n",
       "      <th>Medio</th>\n",
       "      <th>Bajo</th>\n",
       "    </tr>\n",
       "  </thead>\n",
       "  <tbody>\n",
       "    <tr>\n",
       "      <th>Obeso</th>\n",
       "      <td>18</td>\n",
       "      <td>28</td>\n",
       "      <td>14</td>\n",
       "    </tr>\n",
       "    <tr>\n",
       "      <th>Normal</th>\n",
       "      <td>20</td>\n",
       "      <td>51</td>\n",
       "      <td>28</td>\n",
       "    </tr>\n",
       "    <tr>\n",
       "      <th>Bajo_peso</th>\n",
       "      <td>12</td>\n",
       "      <td>25</td>\n",
       "      <td>9</td>\n",
       "    </tr>\n",
       "  </tbody>\n",
       "</table>\n",
       "</div>"
      ],
      "text/plain": [
       "           Alto  Medio  Bajo\n",
       "Obeso        18     28    14\n",
       "Normal       20     51    28\n",
       "Bajo_peso    12     25     9"
      ]
     },
     "execution_count": 4,
     "metadata": {},
     "output_type": "execute_result"
    }
   ],
   "source": [
    "# Definicion de la tabla\n",
    "df = pd.DataFrame({'Alto': [18, 20 ,12], \n",
    "                   'Medio': [28, 51, 25],\n",
    "                   'Bajo': [14,28,9]},\n",
    "             index=['Obeso', 'Normal',\"Bajo_peso\"])\n",
    "\n",
    "df"
   ]
  },
  {
   "cell_type": "markdown",
   "metadata": {},
   "source": [
    "Calcule el total de cada fila y columna"
   ]
  },
  {
   "cell_type": "code",
   "execution_count": 8,
   "metadata": {},
   "outputs": [],
   "source": [
    "# Solucion\n",
    "# Columnas\n",
    "pesos = df.sum(axis = 1)\n",
    "# Filas\n",
    "alturas = df.sum()\n",
    "\n",
    "N = df.sum().sum() "
   ]
  },
  {
   "cell_type": "code",
   "execution_count": 6,
   "metadata": {},
   "outputs": [
    {
     "data": {
      "text/plain": [
       "Obeso        60\n",
       "Normal       99\n",
       "Bajo_peso    46\n",
       "dtype: int64"
      ]
     },
     "execution_count": 6,
     "metadata": {},
     "output_type": "execute_result"
    }
   ],
   "source": [
    "pesos"
   ]
  },
  {
   "cell_type": "code",
   "execution_count": 7,
   "metadata": {},
   "outputs": [
    {
     "data": {
      "text/plain": [
       "Alto      50\n",
       "Medio    104\n",
       "Bajo      51\n",
       "dtype: int64"
      ]
     },
     "execution_count": 7,
     "metadata": {},
     "output_type": "execute_result"
    }
   ],
   "source": [
    "alturas"
   ]
  },
  {
   "cell_type": "code",
   "execution_count": 9,
   "metadata": {},
   "outputs": [
    {
     "data": {
      "text/plain": [
       "205"
      ]
     },
     "execution_count": 9,
     "metadata": {},
     "output_type": "execute_result"
    }
   ],
   "source": [
    "N"
   ]
  },
  {
   "cell_type": "markdown",
   "metadata": {},
   "source": [
    "Calcule la probabilidad de que una persona elegida al azar de este grupo sea alta."
   ]
  },
  {
   "cell_type": "code",
   "execution_count": 10,
   "metadata": {},
   "outputs": [
    {
     "name": "stdout",
     "output_type": "stream",
     "text": [
      "P(alta)= 0.244\n"
     ]
    }
   ],
   "source": [
    "N_alta = alturas[0]\n",
    "P_alta = N_alta/N\n",
    "print(f\"P(alta)= {P_alta:.3f}\")"
   ]
  },
  {
   "cell_type": "markdown",
   "metadata": {},
   "source": [
    "Calcule la probabilidad de que una persona elegida al azar de este grupo sea obesa y alta."
   ]
  },
  {
   "cell_type": "code",
   "execution_count": null,
   "metadata": {},
   "outputs": [],
   "source": []
  },
  {
   "cell_type": "markdown",
   "metadata": {},
   "source": [
    "Calcule la probabilidad de que una persona elegida al azar de este grupo sea alta dado que es obesa."
   ]
  },
  {
   "cell_type": "code",
   "execution_count": null,
   "metadata": {},
   "outputs": [],
   "source": []
  },
  {
   "cell_type": "markdown",
   "metadata": {},
   "source": [
    "Calcule la probabilidad de que una persona elegida al azar de este grupo sea obesa, dado que es alta."
   ]
  },
  {
   "cell_type": "code",
   "execution_count": null,
   "metadata": {},
   "outputs": [],
   "source": []
  },
  {
   "cell_type": "markdown",
   "metadata": {},
   "source": [
    "Calcule la probabilidad de que una persona elegida al azar de este grupo sea alta y de bajo peso. ¿Los eventos obeso y alto son independientes?"
   ]
  },
  {
   "cell_type": "code",
   "execution_count": null,
   "metadata": {},
   "outputs": [],
   "source": []
  }
 ],
 "metadata": {
  "kernelspec": {
   "display_name": "base",
   "language": "python",
   "name": "python3"
  },
  "language_info": {
   "codemirror_mode": {
    "name": "ipython",
    "version": 3
   },
   "file_extension": ".py",
   "mimetype": "text/x-python",
   "name": "python",
   "nbconvert_exporter": "python",
   "pygments_lexer": "ipython3",
   "version": "3.8.16"
  },
  "orig_nbformat": 4
 },
 "nbformat": 4,
 "nbformat_minor": 2
}
