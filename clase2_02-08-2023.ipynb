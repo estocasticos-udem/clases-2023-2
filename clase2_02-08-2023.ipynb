{
 "cells": [
  {
   "cell_type": "markdown",
   "metadata": {},
   "source": [
    "<a target=\"_blank\" href=\"https://colab.research.google.com/github/estocasticos-udem/clases-2023-2/blob/main/clase2_02-08-2023.ipynb\">\n",
    "  <img src=\"https://colab.research.google.com/assets/colab-badge.svg\" alt=\"Open In Colab\"/>\n",
    "</a>"
   ]
  },
  {
   "cell_type": "markdown",
   "metadata": {},
   "source": [
    "Para profundizar mas siga el notebook \n",
    "1. Siga el notebook: [Probability.ipynb](https://github.com/norvig/pytudes/blob/main/ipynb/Probability.ipynb) de Peter Norvig\n",
    "2. En la siguiente pagina **Probability and Statistics with Python** ([link](https://prob-stat-python.github.io/textbook/Introduction.html)) se encuentra gran parte de lo que se usara en el curso."
   ]
  },
  {
   "cell_type": "code",
   "execution_count": 104,
   "metadata": {},
   "outputs": [
    {
     "name": "stdout",
     "output_type": "stream",
     "text": [
      "Requirement already satisfied: matplotlib-venn in c:\\users\\usuario\\anaconda3\\lib\\site-packages (0.11.9)\n",
      "Requirement already satisfied: matplotlib in c:\\users\\usuario\\anaconda3\\lib\\site-packages (from matplotlib-venn) (3.6.2)\n",
      "Requirement already satisfied: scipy in c:\\users\\usuario\\anaconda3\\lib\\site-packages (from matplotlib-venn) (1.9.3)\n",
      "Requirement already satisfied: numpy in c:\\users\\usuario\\anaconda3\\lib\\site-packages (from matplotlib-venn) (1.23.5)\n",
      "Requirement already satisfied: contourpy>=1.0.1 in c:\\users\\usuario\\anaconda3\\lib\\site-packages (from matplotlib->matplotlib-venn) (1.0.5)\n",
      "Requirement already satisfied: python-dateutil>=2.7 in c:\\users\\usuario\\anaconda3\\lib\\site-packages (from matplotlib->matplotlib-venn) (2.8.2)\n",
      "Requirement already satisfied: packaging>=20.0 in c:\\users\\usuario\\anaconda3\\lib\\site-packages (from matplotlib->matplotlib-venn) (22.0)\n",
      "Requirement already satisfied: kiwisolver>=1.0.1 in c:\\users\\usuario\\anaconda3\\lib\\site-packages (from matplotlib->matplotlib-venn) (1.4.4)\n",
      "Requirement already satisfied: fonttools>=4.22.0 in c:\\users\\usuario\\anaconda3\\lib\\site-packages (from matplotlib->matplotlib-venn) (4.25.0)\n",
      "Requirement already satisfied: pyparsing>=2.2.1 in c:\\users\\usuario\\anaconda3\\lib\\site-packages (from matplotlib->matplotlib-venn) (3.0.9)\n",
      "Requirement already satisfied: cycler>=0.10 in c:\\users\\usuario\\anaconda3\\lib\\site-packages (from matplotlib->matplotlib-venn) (0.11.0)\n",
      "Requirement already satisfied: pillow>=6.2.0 in c:\\users\\usuario\\anaconda3\\lib\\site-packages (from matplotlib->matplotlib-venn) (9.3.0)\n",
      "Requirement already satisfied: six>=1.5 in c:\\users\\usuario\\anaconda3\\lib\\site-packages (from python-dateutil>=2.7->matplotlib->matplotlib-venn) (1.16.0)\n"
     ]
    }
   ],
   "source": [
    "!pip install matplotlib-venn"
   ]
  },
  {
   "cell_type": "code",
   "execution_count": 103,
   "metadata": {},
   "outputs": [],
   "source": [
    "import matplotlib.pyplot as plt\n",
    "import numpy as np\n",
    "import random\n",
    "from matplotlib_venn import venn2\n",
    "\n",
    "random.seed()"
   ]
  },
  {
   "cell_type": "markdown",
   "metadata": {},
   "source": [
    "# Clase 2\n",
    "\n",
    "* **Tema**: Probabilidad\n",
    "* **Fecha**: 02/08/2023"
   ]
  },
  {
   "cell_type": "markdown",
   "metadata": {},
   "source": [
    "## Experimento\n",
    "\n",
    "Un experimento es una operación planificada que se realiza en condiciones controladas. \n",
    "\n",
    "### Ejemplo\n",
    "Imagine que se lanzan dos monedas y observa si se obtienen 0, 1 o 2 caras. La siguiente tabla se obtuvo con datos reales obtenidos al lanzar dos monedas de 25 centavos 50 veces."
   ]
  },
  {
   "cell_type": "code",
   "execution_count": 75,
   "metadata": {},
   "outputs": [
    {
     "name": "stdout",
     "output_type": "stream",
     "text": [
      "Exp 1: TT --- [0]\n",
      "Exp 2: TT --- [0]\n",
      "Exp 3: TH --- [1]\n",
      "Exp 4: HT --- [1]\n",
      "Exp 5: TT --- [0]\n",
      "Exp 6: HT --- [1]\n",
      "Exp 7: TT --- [0]\n",
      "Exp 8: TT --- [0]\n",
      "Exp 9: TH --- [1]\n",
      "Exp 10: HH --- [2]\n",
      "Exp 11: HT --- [1]\n",
      "Exp 12: TT --- [0]\n",
      "Exp 13: HT --- [1]\n",
      "Exp 14: HT --- [1]\n",
      "Exp 15: HT --- [1]\n",
      "Exp 16: TT --- [0]\n",
      "Exp 17: HT --- [1]\n",
      "Exp 18: HH --- [2]\n",
      "Exp 19: HT --- [1]\n",
      "Exp 20: TT --- [0]\n",
      "Exp 21: TT --- [0]\n",
      "Exp 22: HT --- [1]\n",
      "Exp 23: HH --- [2]\n",
      "Exp 24: TH --- [1]\n",
      "Exp 25: TH --- [1]\n",
      "Exp 26: TH --- [1]\n",
      "Exp 27: HH --- [2]\n",
      "Exp 28: HT --- [1]\n",
      "Exp 29: HT --- [1]\n",
      "Exp 30: TH --- [1]\n",
      "Exp 31: HT --- [1]\n",
      "Exp 32: HT --- [1]\n",
      "Exp 33: HH --- [2]\n",
      "Exp 34: TT --- [0]\n",
      "Exp 35: TT --- [0]\n",
      "Exp 36: TT --- [0]\n",
      "Exp 37: TT --- [0]\n",
      "Exp 38: HH --- [2]\n",
      "Exp 39: TT --- [0]\n",
      "Exp 40: TH --- [1]\n",
      "Exp 41: TH --- [1]\n",
      "Exp 42: HT --- [1]\n",
      "Exp 43: HH --- [2]\n",
      "Exp 44: TH --- [1]\n",
      "Exp 45: HH --- [2]\n",
      "Exp 46: TT --- [0]\n",
      "Exp 47: TT --- [0]\n",
      "Exp 48: TH --- [1]\n",
      "Exp 49: TH --- [1]\n",
      "Exp 50: HT --- [1]\n",
      "\n",
      "Estadisticas del experimento\n",
      "Frecuencia (Numero de veces del evento ocurrido)\n",
      "- Numero de veces con cero caras a la salida [TT]: 16\n",
      "- Numero de veces con una cara a la salida [HT, TH]: 26\n",
      "- Numero de veces con una cara a la salida [HH]: 8\n"
     ]
    }
   ],
   "source": [
    "# \n",
    "from scipy.stats import bernoulli\n",
    "\n",
    "output = {0: 'T', 1: 'H'}\n",
    "num_monedas = 2\n",
    "prob = 0.5\n",
    "num_exp = 50\n",
    "total_heads_experiment = [0,0,0]\n",
    "\n",
    "# Ejecucion de los experimentos\n",
    "for i in range(num_exp):\n",
    "    exp_i = bernoulli.rvs(p=0.5, size=num_monedas)\n",
    "    num_heads_i = sum(exp_i)\n",
    "    total_heads_experiment[num_heads_i] += 1\n",
    "    print(f\"Exp {i + 1}: {output[exp_i[0]]}{output[exp_i[1]]} --- [{num_heads_i}]\")\n",
    "\n",
    "# Resulados experimento\n",
    "freq_0H = total_heads_experiment[0]\n",
    "freq_1H = total_heads_experiment[1]\n",
    "freq_2H = total_heads_experiment[2]\n",
    "\n",
    "# Despligue estadisticas\n",
    "print()\n",
    "print(\"Estadisticas del experimento\")\n",
    "print(\"Frecuencia (Numero de veces del evento ocurrido)\")\n",
    "print(f\"- Numero de veces con cero caras a la salida [TT]: {freq_0H}\")\n",
    "print(f\"- Numero de veces con una cara a la salida [HT, TH]: {freq_1H}\")\n",
    "print(f\"- Numero de veces con una cara a la salida [HH]: {freq_2H}\")\n"
   ]
  },
  {
   "cell_type": "code",
   "execution_count": 77,
   "metadata": {},
   "outputs": [
    {
     "name": "stdout",
     "output_type": "stream",
     "text": [
      "[1 1 2 1 1 2 2 1 1 2 1 2 1 1 0 1 2 2 1 1 1 1 2 2 1 1 1 1 1 2 1 1 2 2 1 1 0\n",
      " 1 2 1 1 1 1 0 0 1 1 0 2 1]\n",
      "\n",
      "Estadisticas del experimento\n",
      "Frecuencia (Numero de veces del evento ocurrido)\n",
      "- Numero de veces con cero caras a la salida [TT]: 5\n",
      "- Numero de veces con una cara a la salida [HT, TH]: 31\n",
      "- Numero de veces con una cara a la salida [HH]: 14\n"
     ]
    }
   ],
   "source": [
    "from scipy.stats import binom\n",
    "\n",
    "num_monedas = 2\n",
    "prob = 0.5\n",
    "num_exp = 50\n",
    "sample = binom.rvs(n = num_monedas, p = prob, size = num_exp)\n",
    "# Salida de los experimentos\n",
    "print(sample)\n",
    "\n",
    "# Resulados experimento\n",
    "freq_0H = np.count_nonzero(sample == 0)\n",
    "freq_1H = np.count_nonzero(sample == 1)\n",
    "freq_2H = np.count_nonzero(sample == 2)\n",
    "\n",
    "# Despligue estadisticas\n",
    "print()\n",
    "print(\"Estadisticas del experimento\")\n",
    "print(\"Frecuencia (Numero de veces del evento ocurrido)\")\n",
    "print(f\"- Numero de veces con cero caras a la salida [TT]: {freq_0H}\")\n",
    "print(f\"- Numero de veces con una cara a la salida [HT, TH]: {freq_1H}\")\n",
    "print(f\"- Numero de veces con una cara a la salida [HH]: {freq_2H}\")"
   ]
  },
  {
   "cell_type": "markdown",
   "metadata": {},
   "source": [
    "## Ley de los grandes numeros\n",
    "\n",
    "El comportamiento del azar es impredecible a corto plazo, pero tiene un patrón regular y predecible a largo plazo.\n",
    "\n",
    "> **Ley de los grandes numeros**<br> \n",
    "> La ley de los grandes números dice que si observamos más y más repeticiones de cualquier proceso aleatorio, la proporción de veces que ocurre un resultado específico se aproxima a un solo valor.\n"
   ]
  },
  {
   "cell_type": "code",
   "execution_count": 9,
   "metadata": {},
   "outputs": [
    {
     "data": {
      "image/png": "[encoded data removed]",
      "text/plain": [
       "<Figure size 640x480 with 1 Axes>"
      ]
     },
     "metadata": {},
     "output_type": "display_data"
    }
   ],
   "source": [
    "\n",
    "def coin_flip_experiment():\n",
    "  # defining our two coins as lists\n",
    "  coin1 = ['Heads', 'Tails']\n",
    "  coin2 = ['Heads', 'Tails']\n",
    " \n",
    "  # \"flipping\" both coins randomly\n",
    "  coin1_result = np.random.choice(coin1)\n",
    "  coin2_result = np.random.choice(coin2)\n",
    " \n",
    "  # checking if both flips are heads\n",
    "  if coin1_result == 'Heads' and coin2_result == 'Heads':\n",
    "    return 1\n",
    "  else:\n",
    "    return 0\n",
    " \n",
    "# how many times we run the experiment\n",
    "num_trials = 100\n",
    "prop = []\n",
    "flips = []\n",
    "# keep track of the number of times heads pops up twice\n",
    "two_heads_counter = 0\n",
    " \n",
    "# perform the experiment five times\n",
    "for flip in range(num_trials):\n",
    "  # if both coins are heads add 1 to the counter\n",
    "  two_heads_counter += coin_flip_experiment()\n",
    "  # keep track of the proportion of two heads at each flip \n",
    "  prop.append(two_heads_counter/(flip+1))\n",
    "  # keep a list for number of flips\n",
    "  flips.append(flip+1)\n",
    " \n",
    "# plot all flips and proportion of two heads\n",
    "plt.plot(flips, prop, label='Experimental Probability')\n",
    "plt.xlabel('Number of Flips')\n",
    "plt.ylabel('Proportion of Two Heads')\n",
    "\n",
    "plt.hlines(0.25, 0, num_trials, colors='orange', label='True Probability')\n",
    "plt.legend()\n",
    " \n",
    "plt.show()"
   ]
  },
  {
   "cell_type": "markdown",
   "metadata": {},
   "source": [
    "## Ejemplos de las diapositivas de la clase"
   ]
  },
  {
   "cell_type": "code",
   "execution_count": 48,
   "metadata": {},
   "outputs": [],
   "source": [
    "# Definicion de probabilidad\n",
    "\n",
    "from fractions import Fraction\n",
    "\n",
    "def P(event, space): \n",
    "    \"The probability of an event, given a sample space.\"\n",
    "    return Fraction(cases(favorable(event, space)), \n",
    "                    cases(space))\n",
    "\n",
    "favorable = set.intersection # Outcomes that are in the event and in the sample space\n",
    "cases     = len              # The number of cases is the length, or size, of a set\n"
   ]
  },
  {
   "cell_type": "markdown",
   "metadata": {},
   "source": [
    "**Ejemplo 1**\n",
    "\n",
    "El espacio muestral S son los números enteros a partir de uno y menores de 20. Por otro lado, supongamos que el evento *A = los números pares* y el evento *B = los números mayores de 13*. Determinar:\n",
    "1. $S$\n",
    "2. $A$ \n",
    "3. $B$\n",
    "4. $P(A)$\n",
    "5. $P(B)$\n",
    "6. $A \\cap B$ \n",
    "7. $A \\cup B$ \n",
    "8. $P(A \\cap B)$ \n",
    "9. $P(A \\cup B)$ \n",
    "10. $A'$\n",
    "11. $P(A')$\n",
    "12. $P(A) + P(A')$ \n",
    "13. $P(A|B)$\n",
    "14. $P(B|A)$\n",
    "15. ¿las probabilidades $P(A|B)$ y $P(B|A)$ son iguales ?"
   ]
  },
  {
   "cell_type": "code",
   "execution_count": null,
   "metadata": {},
   "outputs": [
    {
     "name": "stdout",
     "output_type": "stream",
     "text": [
      "S = {1, 2, 3, 4, 5, 6, 7, 8, 9, 10, 11, 12, 13, 14, 15, 16, 17, 18, 19, 20}\n",
      "A = {2, 4, 6, 8, 10, 12, 14, 16, 18, 20}\n",
      "B = {14, 15, 16, 17, 18, 19, 20}\n",
      "P(A) = 1/2\n",
      "P(B) = 7/20\n",
      "A and B = {16, 18, 20, 14}\n",
      "A or B = {2, 4, 6, 8, 10, 12, 14, 15, 16, 17, 18, 19, 20}\n",
      "P(A and B) = 1/5\n",
      "P(A or B) = 13/20\n",
      "A' = {1, 3, 5, 7, 9, 11, 13, 15, 17, 19}\n",
      "P(A') = 1/2\n",
      "P(A) + P(A') = 1/2 + 1/2 = 1\n",
      "P(A|B) = 4/7\n",
      "P(B|A) = 2/5\n",
      "P(A|B) == P(B|A)? --> Falso\n"
     ]
    }
   ],
   "source": [
    "# 1\n",
    "S = set(range(1,21))\n",
    "print(\"S = \", S ,sep = '')\n",
    "# 2\n",
    "A = set([n for n in S if n%2 == 0])\n",
    "print(\"A = \", A ,sep = '')\n",
    "# 3\n",
    "B = set([n for n in S if n > 13])\n",
    "print(\"B = \", B ,sep = '')\n",
    "# 4\n",
    "P_A = P(A,S)\n",
    "print(\"P(A) = \", P_A ,sep = '')\n",
    "# 5\n",
    "P_B = P(B,S)\n",
    "print(\"P(B) = \", P_B ,sep = '')\n",
    "# 6\n",
    "A_and_B = A.intersection(B)\n",
    "print(\"A and B = \", A_and_B ,sep = '')\n",
    "# 7\n",
    "A_or_B = A.union(B)\n",
    "print(\"A or B = \", A_or_B ,sep = '')\n",
    "# 8\n",
    "P_A_and_B = P(A_and_B,S)\n",
    "print(\"P(A and B) = \", P_A_and_B ,sep = '')\n",
    "# 9\n",
    "P_A_or_B = P(A_or_B,S)\n",
    "print(\"P(A or B) = \", P_A_or_B ,sep = '')\n",
    "# 10\n",
    "A_c = S.difference(A)\n",
    "print(\"A' = \", A_c ,sep = '')\n",
    "# 11\n",
    "P_A_c = P(A_c,S)\n",
    "print(\"P(A') = \", P_A_c ,sep = '')\n",
    "# 12\n",
    "print(f\"P(A) + P(A') = {P_A} + {P_A_c} = {P_A + P_A_c}\")\n",
    "# 13\n",
    "P_A_dado_B = Fraction(P_A_and_B,P_B)\n",
    "print(f\"P(A|B) = {P_A_dado_B}\")\n",
    "# 14\n",
    "P_B_dado_A = Fraction(P_A_and_B,P_A)\n",
    "print(f\"P(B|A) = {P_B_dado_A}\")\n",
    "# 15\n",
    "if P_A_dado_B == P_B_dado_A:\n",
    "    print(\"P(A|B) == P(B|A)? --> Verdadero\")\n",
    "else:\n",
    "    print(\"P(A|B) == P(B|A)? --> Falso\")"
   ]
  },
  {
   "cell_type": "markdown",
   "metadata": {},
   "source": [
    "**Ejemplo 2**\n",
    "\n",
    "La siguiente tabla describe la distribución de una muestra aleatoria S de 100 personas, organizada por sexo y por si son diestras o zurdas:\n",
    "\n",
    "||Diestro|Zurdo|\n",
    "|---|---|---|\n",
    "|Hombre|43|9|\n",
    "|Mujer|44|4|\n",
    "\n",
    "\n",
    "Si denotamos los eventos *M = el sujeto es hombre*, *F = el sujeto es mujer*, *R = el sujeto es diestro*, *L = el sujeto es zurdo*. Calcule las siguientes probabilidades:\n",
    "1. $P(M)$\n",
    "2. $P(F)$\n",
    "3. $P(R)$\n",
    "4. $P(L)$\n",
    "5. $P(M \\cap R)$\n",
    "6. $P(F \\cap L)$\n",
    "7. $P(M \\cup F)$\n",
    "8. $P(M \\cup R)$\n",
    "9. $P(F \\cup L)$\n",
    "10. $P(M')$\n",
    "11. $P(R|M)$\n",
    "12. $P(F|L)$\n",
    "13. $P(L|F)$"
   ]
  },
  {
   "cell_type": "code",
   "execution_count": 1,
   "metadata": {},
   "outputs": [
    {
     "name": "stdout",
     "output_type": "stream",
     "text": [
      "P(M) =  0.52\n",
      "P(F) =  0.48\n",
      "P(R) =  0.87\n",
      "P(L) =  0.13\n",
      "P(M and R) =  0.43\n",
      "P(F and L) =  0.04\n",
      "P(M or F) =  1.0\n",
      "P(M or R) =  0.96\n",
      "P(F or L) =  0.57\n",
      "P(M') =  0.48\n",
      "P(R|M) =  0.8269\n",
      "P(F|L) =  0.3077\n",
      "P(L|F) =  0.08333\n"
     ]
    }
   ],
   "source": [
    "tabla = [\n",
    "          [43, 9],\n",
    "          [44, 4]\n",
    "        ]\n",
    "\n",
    "# Totales\n",
    "N_M = sum(tabla[0])\n",
    "N_F = sum(tabla[1])\n",
    "N_R = tabla[0][0] + tabla[1][0]\n",
    "N_L = tabla[0][1] + tabla[1][1]\n",
    "N = N_M + N_F\n",
    "\n",
    "# 1\n",
    "P_M = N_M/N\n",
    "print(f\"P(M) =  {P_M}\")\n",
    "# 2\n",
    "P_F = N_F/N\n",
    "print(f\"P(F) =  {P_F}\")\n",
    "# 3\n",
    "P_R = N_R/N\n",
    "print(f\"P(R) =  {P_R}\")\n",
    "# 4\n",
    "P_L = N_L/N\n",
    "print(f\"P(L) =  {P_L}\")\n",
    "# 5\n",
    "N_M_and_R = tabla[0][0]\n",
    "P_M_and_R = N_M_and_R/N\n",
    "print(f\"P(M and R) =  {P_M_and_R}\")\n",
    "# 6\n",
    "N_F_and_L = tabla[1][1]\n",
    "P_F_and_L = N_F_and_L/N\n",
    "print(f\"P(F and L) =  {P_F_and_L}\")\n",
    "# 7\n",
    "P_M_or_F = (N_M + N_F)/N\n",
    "print(f\"P(M or F) =  {P_M_or_F}\")\n",
    "# 8\n",
    "P_M_or_R = (N_M + N_R - N_M_and_R)/N\n",
    "print(f\"P(M or R) =  {P_M_or_R}\")\n",
    "# 9\n",
    "P_F_or_L = (N_F + N_L - N_F_and_L)/N\n",
    "print(f\"P(F or L) =  {P_F_or_L}\")\n",
    "# 10\n",
    "P_M_c = (N - N_M)/N\n",
    "print(f\"P(M') =  {P_M_c}\")\n",
    "# 11\n",
    "P_R_dado_M = (N_M_and_R)/N_M\n",
    "print(f\"P(R|M) =  {P_R_dado_M:.4}\")\n",
    "# 12\n",
    "P_F_dado_L = (N_F_and_L)/N_L\n",
    "print(f\"P(F|L) =  {P_F_dado_L:.4}\")\n",
    "# 13\n",
    "P_L_dado_F = (N_F_and_L)/N_F\n",
    "print(f\"P(L|F) =  {P_L_dado_F:.4}\")"
   ]
  },
  {
   "cell_type": "markdown",
   "metadata": {},
   "source": [
    "## Actividades\n",
    "\n",
    "**Ejercicio 1**: (Ejemplo 2 de las diapositivas de clase) El espacio muestral S son todos los pares ordenados de dos números enteros, el primero de uno a tres y el segundo de uno a cuatro (ejemplo: (1, 4)). Suponiendo que el evento *A = la suma es par* y el evento *B = el primer número es primo*.\n",
    "1. $S$\n",
    "2. $A$\n",
    "3. $B$\n",
    "4. $P(A)$\n",
    "5. $P(B)$\n",
    "6. $A \\cap B$\n",
    "7. $A \\cup B$\n",
    "8. $P(A \\cap B)$\n",
    "9. $P(A \\cup B)$\n",
    "10. $B'$ \n",
    "11. $P(B')$\n",
    "12. $P(A) + P(A')$ \n",
    "13. $P(A|B)$  \n",
    "14. $P(B|A)$ \n",
    "15. ¿las probabilidades $P(A|B)$ y $P(B|A)$ son iguales ?"
   ]
  },
  {
   "attachments": {},
   "cell_type": "markdown",
   "metadata": {},
   "source": [
    "## Referencias\n",
    "\n",
    "1. https://realpython.com/python-sets/\n",
    "2. https://www.datacamp.com/tutorial/sets-in-python\n",
    "3. https://py3.codeskulptor.org/docs.html\n",
    "4. https://www.markdownguide.org/basic-syntax/\n",
    "5. https://openincolab.com/\n",
    "6. https://www.codecademy.com/learn/paths/master-statistics-with-python/tracks/stats-probability/modules/stats-rules-of-probability/cheatsheet\n",
    "7. https://bookdown.org/aquintela/EBE/las-leyes-de-los-grandes-numeros.html\n",
    "8. https://realpython.com/python-statistics/\n",
    "9. https://realpython.com/python-histograms/\n",
    "10. https://www.datacamp.com/cheat-sheet/introduction-to-probability-rules-cheat-sheet\n",
    "11. https://www.datacamp.com/tutorial/python-statistics-data-science\n",
    "12. https://goodboychan.github.io/python/datacamp/statistics/2020/08/26/02-Random-Numbers-and-Probability.html\n",
    "13. https://ethanweed.github.io/pythonbook/04.02-probability.html\n",
    "14. https://prob-stat-python.github.io/textbook/Introduction.html\n",
    "15. https://www.kaggle.com/code/hassanamin/probability-and-statistics-with-python\n",
    "16. https://github.com/norvig/pytudes/blob/main/ipynb/Probability.ipynb\n",
    "17. https://www.datacamp.com/tutorial/statistics-python-tutorial-probability-1\n",
    "18. https://recursospython.com/guias-y-manuales/diagramas-de-venn-con-matplotlib/\n",
    "19. https://github.com/konstantint/matplotlib-venn\n",
    "20. https://github.com/tctianchi/pyvenn\n",
    "\n"
   ]
  }
 ],
 "metadata": {
  "kernelspec": {
   "display_name": "Python 3",
   "language": "python",
   "name": "python3"
  },
  "language_info": {
   "codemirror_mode": {
    "name": "ipython",
    "version": 3
   },
   "file_extension": ".py",
   "mimetype": "text/x-python",
   "name": "python",
   "nbconvert_exporter": "python",
   "pygments_lexer": "ipython3",
   "version": "3.9.13"
  },
  "orig_nbformat": 4,
  "vscode": {
   "interpreter": {
    "hash": "7ca28e188d3642ea0f6b818ba2f398115b2af708aaa4349ae36c267a1f6475ff"
   }
  }
 },
 "nbformat": 4,
 "nbformat_minor": 2
}
